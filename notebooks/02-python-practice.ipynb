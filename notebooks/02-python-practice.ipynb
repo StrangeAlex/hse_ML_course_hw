{
 "cells": [
  {
   "cell_type": "markdown",
   "metadata": {},
   "source": [
    "# Практика 1\n",
    "\n",
    "Оно же в коллабе\n",
    "\n",
    "https://colab.research.google.com/drive/1e25hWxFg3XVkAnevi4RJIMzC4Rt-AfL1?usp=sharing"
   ]
  },
  {
   "cell_type": "markdown",
   "metadata": {
    "id": "GfgwsZbGcTCQ"
   },
   "source": [
    "# Git\n",
    "\n",
    "`git init` - инициализировать репозиторий\n",
    "\n",
    "`git add .` - добавить все файлы к отслеживанию\n",
    "\n",
    "`git commit -m \"commit message\"` - сделать коммит с названием commit message\n",
    "\n",
    "`git push origin master` - сделать пуш в удаленный репозиторий origin в ветку master\n",
    "\n",
    "`git pull` - подтянуть изменения\n",
    "\n",
    "`git branch new-feature` - сделать ветку new-feature\n",
    "\n",
    "`git checkout new-feature` - перейти на ветку new-feature\n",
    "\n",
    "`git log` - посмотреть историю коммитов\n",
    "\n",
    "`git log --all --decorate --oneline --graph` - посмотреть красивую историю коммитов\n",
    "\n",
    "`git checkout 978be83` - перейти к коммиту 978be83\n",
    "\n",
    "При создании репозитория на github, будут написаны команды как запушить код в первый раз"
   ]
  },
  {
   "cell_type": "markdown",
   "metadata": {
    "id": "cvMlmEBJceX5"
   },
   "source": [
    "## Задача - учимся коммитить\n",
    "\n",
    "Последовательно сделать следующее:\n",
    "\n",
    "1. Создать новую папку test_git\n",
    "\n",
    "2. Инициализировать репозиторий\n",
    "\n",
    "3. Сделать текстовый файл 1.txt, заполнить его по своему усмотрению\n",
    "\n",
    "4. Сделать коммит\n",
    "\n",
    "5. Сделать новую ветку second-file, перейти в нее\n",
    "\n",
    "6. Закоммитить новый файл 2.txt с произвольным содержимым\n",
    "\n",
    "7. Перейти к master-ветке, проверить, что файл 2.txt остался в другой ветке\n",
    "\n",
    "8. Замержить ветку second-file в master"
   ]
  },
  {
   "cell_type": "markdown",
   "metadata": {
    "id": "WnO8pWoiclMK"
   },
   "source": [
    "## Задача - создаем конфликты\n",
    "\n",
    "1. В ветке master создаем файл 3.txt и что-то туда пишем\n",
    "2. В ветке second-file создаем файл 3.txt и пишем туда что-то другое\n",
    "3. Мержим second-file в master и решаем конфликт"
   ]
  },
  {
   "cell_type": "markdown",
   "metadata": {
    "id": "aropHxQVdP2p"
   },
   "source": [
    "## Материалы по питону (для самых заинтересованных)\n",
    "\n",
    "https://drive.google.com/drive/folders/1EdPbnImcIt0Hrjy56FveACdM-uc2anCP?usp=sharing"
   ]
  },
  {
   "cell_type": "markdown",
   "metadata": {
    "id": "zOwAopRPhz5Q"
   },
   "source": [
    "## Задача 1.\n",
    "\n",
    "Нужно написать функцию, которая определяет, является ли переданная строка палиндромом.\n",
    "\n",
    "Примеры палиндромов:\n",
    "- Казак\n",
    "- А роза упала на лапу Азора\n",
    "- Do geese see God?\n",
    "- Madam, I’m Adam\n",
    "\n",
    "Ограничение по памяти - исходную строку нельзя копировать.\n",
    "\n",
    "Необходимо исключить все non alpha-numerical символы, и считать большие и маленькие буквы равными.\n",
    "\n"
   ]
  },
  {
   "cell_type": "code",
   "execution_count": 1,
   "metadata": {
    "id": "W9iIsD87jVeo",
    "ExecuteTime": {
     "end_time": "2024-01-19T13:07:06.495933900Z",
     "start_time": "2024-01-19T13:07:06.480938900Z"
    }
   },
   "outputs": [],
   "source": [
    "def solution_1(s):\n",
    "    pass"
   ]
  },
  {
   "cell_type": "code",
   "execution_count": 2,
   "metadata": {
    "id": "Uo8dSXWsiuWz",
    "ExecuteTime": {
     "end_time": "2024-01-19T13:07:06.495933900Z",
     "start_time": "2024-01-19T13:07:06.480938900Z"
    }
   },
   "outputs": [],
   "source": [
    "import re\n",
    "\n",
    "examples = [\n",
    "    'Казак',\n",
    "    'А роза упала на лапу Азора',\n",
    "    'Do geese see God?',\n",
    "    'Madam, I’m Adam'\n",
    "]\n",
    "\n",
    "def test_solution_1():\n",
    "    def non_optimal_solution(s):\n",
    "        regex = re.compile('[^a-zA-Zа-яА-Я]')\n",
    "        clean = regex.sub('', s).lower()\n",
    "        return clean == clean[::-1]\n",
    "\n",
    "    for example in examples:\n",
    "        assert non_optimal_solution(example) == solution_1(example)\n",
    "\n",
    "#test_solution_1()"
   ]
  },
  {
   "cell_type": "markdown",
   "metadata": {
    "id": "gdpFNPfPitfd"
   },
   "source": [
    "## Задача 2.\n",
    "\n",
    "Дан текст T и строка S. Требуется найти подстроку S' в T такую, что она совпадает с S с точностью до перестановки букв.\n",
    "В качестве ответа стоит вернуть индекс первого вхождения, или -1, если такая подстрока S' не нашлась.\n",
    "\n",
    "Задача со звездочкой: решить за O(|T|)"
   ]
  },
  {
   "cell_type": "code",
   "execution_count": 3,
   "metadata": {
    "id": "X1hLqxvVitLM",
    "ExecuteTime": {
     "end_time": "2024-01-19T13:07:06.508936900Z",
     "start_time": "2024-01-19T13:07:06.495933900Z"
    }
   },
   "outputs": [],
   "source": [
    "def solution_2(t, s):\n",
    "    pass"
   ]
  },
  {
   "cell_type": "markdown",
   "metadata": {
    "id": "EugYe2AVTJnB"
   },
   "source": [
    "# Домашнее задание\n",
    "\n",
    "Установить Anaconda и Git. Создать репозиторий на GitHub.\n",
    "\n",
    "## Easy (+0.1)\n",
    "\n",
    "Написать функцию, которая на вход принимает список, а возвращает словарь со среднием, медианой и модой, например вот такой: `{\"mean\": ..., \"median\": ..., \"mode\": ...}`.\n",
    "\n",
    "Пример:\n",
    "\n",
    "```python\n",
    "\n",
    "func([0, 1, 1, 10, 5, 4, 3])\n",
    "\n",
    "# Должно вернуть: {\"mean\": 3.4285, \"median\": 3, \"mode\": 1}\n",
    "\n",
    "```\n",
    "\n",
    "## Medium (+0.4)\n",
    "\n",
    "https://www.kaggle.com/datasets/databanditofficial/dota-hero-stats\n",
    "\n",
    "Написать функцию, которая будет парсить csv-файл dota_hero_stats.csv\n",
    "\n",
    "Сигнатура функции:\n",
    "\n",
    "```\n",
    "def parse_csv(file_content: str) -> List[Dict]\n",
    "```\n",
    "\n",
    "Найти персонажа с максимальным количеством ног (сторонние библиотеки использовать нельзя)\n",
    "\n",
    "\n",
    "## Hard (+ в карму)\n",
    "\n",
    "Придумать меру близости между двумя персонажами, описать текстом, реализовать кодом. Мера должна использовать все содержательные колонки: attack_type, legs, primary_attr, roles\n",
    "\n",
    "Найти двух персонажей, которые наиболее близки друг к другу.\n",
    "\n",
    "Также нельзя использовать сторонние библиотеки.\n",
    "\n",
    "\n",
    "## Байка\n",
    "\n",
    "В реально жизни, конечно, уже написаны парсеры для основных форматов данных, но кто вам гарантирует, что ваши данные будут в нужном формате? Нужно уметь парсить разные странные форматы данных.\n",
    "\n",
    "Когда-то я работал в компании, которая не умела в DWH и хранила все данные в продовых базах. Ну, \"базах\". Это были терабайты xml-файлов, поверх которых была настроена репликация и прод умел быстро по ним искать. Конечно же, эти xml-файлы были неструктурированы, пришлось освоить специальный язык для индексации по xml-файлам - xpath - чтобы привести данные в хоть сколько-то табличный вид. Парсер имел отвратительный код, а данные на выходе были еще хуже. А через пару месяцев я уволился оттуда и дальше проект не полетел (надеюсь, это независимые события). Какой вывод? Держите данные в DWH в понятном и удобном формате и не храните данные в проде в xml."
   ]
  },
  {
   "cell_type": "code",
   "execution_count": 4,
   "metadata": {
    "id": "4w4pKwBBShQt",
    "ExecuteTime": {
     "end_time": "2024-01-19T13:07:06.525685Z",
     "start_time": "2024-01-19T13:07:06.508936900Z"
    }
   },
   "outputs": [
    {
     "data": {
      "text/plain": "{'mean': 6.5, 'median': 5.0, 'mode': 5}"
     },
     "execution_count": 4,
     "metadata": {},
     "output_type": "execute_result"
    }
   ],
   "source": [
    "def easy(list):\n",
    "    return {\"mean\": sum(list)/len(list), \"median\": (sorted(list)[len(list)//2] + sorted(list)[len(list)//2 - (len(list)%2 == 0)])/2, \"mode\": sorted([(list.count(e), e) for e in set(list)])[-1][1]}\n",
    "easy([1, 15, 5, 5])"
   ]
  },
  {
   "cell_type": "markdown",
   "source": [],
   "metadata": {
    "collapsed": false
   }
  },
  {
   "cell_type": "code",
   "execution_count": 5,
   "outputs": [
    {
     "name": "stdout",
     "output_type": "stream",
     "text": [
      "8\n"
     ]
    }
   ],
   "source": [
    "def parse_csv(path):\n",
    "    #  Осознанно не добавлял в код удаление символов перевода строки, а также не удалял первое значение с индексом\n",
    "    with open(file=\"../data/dota_hero_stats.csv\") as f:\n",
    "        cats = (f.readline()).split(',')\n",
    "        return [dict(zip(cats, ((e.split(',')[:7])+[(','.join(e.split(',')[7:]))]))) for e in f.readlines()]\n",
    "    \n",
    "stats_dict = parse_csv(\"../data/dota_hero_stats.csv\")\n",
    "print(max([e['legs'] for e in stats_dict]))"
   ],
   "metadata": {
    "collapsed": false,
    "ExecuteTime": {
     "end_time": "2024-01-19T13:07:06.572106600Z",
     "start_time": "2024-01-19T13:07:06.525685Z"
    }
   }
  },
  {
   "cell_type": "code",
   "execution_count": 6,
   "outputs": [
    {
     "data": {
      "text/plain": "[{'': '0',\n  'attack_type': 'Melee',\n  'id': '1',\n  'legs': '2',\n  'localized_name': 'Anti-Mage',\n  'name': 'npc_dota_hero_antimage',\n  'primary_attr': 'agi',\n  'roles\\n': '\"[\\'Carry\\', \\'Escape\\', \\'Nuker\\']\"\\n'},\n {'': '1',\n  'attack_type': 'Melee',\n  'id': '2',\n  'legs': '2',\n  'localized_name': 'Axe',\n  'name': 'npc_dota_hero_axe',\n  'primary_attr': 'str',\n  'roles\\n': '\"[\\'Initiator\\', \\'Durable\\', \\'Disabler\\', \\'Jungler\\']\"\\n'},\n {'': '2',\n  'attack_type': 'Ranged',\n  'id': '3',\n  'legs': '4',\n  'localized_name': 'Bane',\n  'name': 'npc_dota_hero_bane',\n  'primary_attr': 'int',\n  'roles\\n': '\"[\\'Support\\', \\'Disabler\\', \\'Nuker\\', \\'Durable\\']\"\\n'},\n {'': '3',\n  'attack_type': 'Melee',\n  'id': '4',\n  'legs': '2',\n  'localized_name': 'Bloodseeker',\n  'name': 'npc_dota_hero_bloodseeker',\n  'primary_attr': 'agi',\n  'roles\\n': '\"[\\'Carry\\', \\'Disabler\\', \\'Jungler\\', \\'Nuker\\', \\'Initiator\\']\"\\n'},\n {'': '4',\n  'attack_type': 'Ranged',\n  'id': '5',\n  'legs': '2',\n  'localized_name': 'Crystal Maiden',\n  'name': 'npc_dota_hero_crystal_maiden',\n  'primary_attr': 'int',\n  'roles\\n': '\"[\\'Support\\', \\'Disabler\\', \\'Nuker\\', \\'Jungler\\']\"\\n'},\n {'': '5',\n  'attack_type': 'Ranged',\n  'id': '6',\n  'legs': '2',\n  'localized_name': 'Drow Ranger',\n  'name': 'npc_dota_hero_drow_ranger',\n  'primary_attr': 'agi',\n  'roles\\n': '\"[\\'Carry\\', \\'Disabler\\', \\'Pusher\\']\"\\n'},\n {'': '6',\n  'attack_type': 'Melee',\n  'id': '7',\n  'legs': '2',\n  'localized_name': 'Earthshaker',\n  'name': 'npc_dota_hero_earthshaker',\n  'primary_attr': 'str',\n  'roles\\n': '\"[\\'Support\\', \\'Initiator\\', \\'Disabler\\', \\'Nuker\\']\"\\n'},\n {'': '7',\n  'attack_type': 'Melee',\n  'id': '8',\n  'legs': '2',\n  'localized_name': 'Juggernaut',\n  'name': 'npc_dota_hero_juggernaut',\n  'primary_attr': 'agi',\n  'roles\\n': '\"[\\'Carry\\', \\'Pusher\\', \\'Escape\\']\"\\n'},\n {'': '8',\n  'attack_type': 'Ranged',\n  'id': '9',\n  'legs': '2',\n  'localized_name': 'Mirana',\n  'name': 'npc_dota_hero_mirana',\n  'primary_attr': 'agi',\n  'roles\\n': '\"[\\'Carry\\', \\'Support\\', \\'Escape\\', \\'Nuker\\', \\'Disabler\\']\"\\n'},\n {'': '9',\n  'attack_type': 'Ranged',\n  'id': '10',\n  'legs': '0',\n  'localized_name': 'Morphling',\n  'name': 'npc_dota_hero_morphling',\n  'primary_attr': 'agi',\n  'roles\\n': '\"[\\'Carry\\', \\'Escape\\', \\'Durable\\', \\'Nuker\\', \\'Disabler\\']\"\\n'},\n {'': '10',\n  'attack_type': 'Ranged',\n  'id': '11',\n  'legs': '0',\n  'localized_name': 'Shadow Fiend',\n  'name': 'npc_dota_hero_nevermore',\n  'primary_attr': 'agi',\n  'roles\\n': '\"[\\'Carry\\', \\'Nuker\\']\"\\n'},\n {'': '11',\n  'attack_type': 'Melee',\n  'id': '12',\n  'legs': '2',\n  'localized_name': 'Phantom Lancer',\n  'name': 'npc_dota_hero_phantom_lancer',\n  'primary_attr': 'agi',\n  'roles\\n': '\"[\\'Carry\\', \\'Escape\\', \\'Pusher\\', \\'Nuker\\']\"\\n'},\n {'': '12',\n  'attack_type': 'Ranged',\n  'id': '13',\n  'legs': '2',\n  'localized_name': 'Puck',\n  'name': 'npc_dota_hero_puck',\n  'primary_attr': 'int',\n  'roles\\n': '\"[\\'Initiator\\', \\'Disabler\\', \\'Escape\\', \\'Nuker\\']\"\\n'},\n {'': '13',\n  'attack_type': 'Melee',\n  'id': '14',\n  'legs': '2',\n  'localized_name': 'Pudge',\n  'name': 'npc_dota_hero_pudge',\n  'primary_attr': 'str',\n  'roles\\n': '\"[\\'Disabler\\', \\'Initiator\\', \\'Durable\\', \\'Nuker\\']\"\\n'},\n {'': '14',\n  'attack_type': 'Ranged',\n  'id': '15',\n  'legs': '0',\n  'localized_name': 'Razor',\n  'name': 'npc_dota_hero_razor',\n  'primary_attr': 'agi',\n  'roles\\n': '\"[\\'Carry\\', \\'Durable\\', \\'Nuker\\', \\'Pusher\\']\"\\n'},\n {'': '15',\n  'attack_type': 'Melee',\n  'id': '16',\n  'legs': '6',\n  'localized_name': 'Sand King',\n  'name': 'npc_dota_hero_sand_king',\n  'primary_attr': 'str',\n  'roles\\n': '\"[\\'Initiator\\', \\'Disabler\\', \\'Support\\', \\'Nuker\\', \\'Escape\\', \\'Jungler\\']\"\\n'},\n {'': '16',\n  'attack_type': 'Ranged',\n  'id': '17',\n  'legs': '2',\n  'localized_name': 'Storm Spirit',\n  'name': 'npc_dota_hero_storm_spirit',\n  'primary_attr': 'int',\n  'roles\\n': '\"[\\'Carry\\', \\'Escape\\', \\'Nuker\\', \\'Initiator\\', \\'Disabler\\']\"\\n'},\n {'': '17',\n  'attack_type': 'Melee',\n  'id': '18',\n  'legs': '2',\n  'localized_name': 'Sven',\n  'name': 'npc_dota_hero_sven',\n  'primary_attr': 'str',\n  'roles\\n': '\"[\\'Carry\\', \\'Disabler\\', \\'Initiator\\', \\'Durable\\', \\'Nuker\\']\"\\n'},\n {'': '18',\n  'attack_type': 'Melee',\n  'id': '19',\n  'legs': '2',\n  'localized_name': 'Tiny',\n  'name': 'npc_dota_hero_tiny',\n  'primary_attr': 'str',\n  'roles\\n': '\"[\\'Carry\\', \\'Nuker\\', \\'Pusher\\', \\'Initiator\\', \\'Durable\\', \\'Disabler\\']\"\\n'},\n {'': '19',\n  'attack_type': 'Ranged',\n  'id': '20',\n  'legs': '2',\n  'localized_name': 'Vengeful Spirit',\n  'name': 'npc_dota_hero_vengefulspirit',\n  'primary_attr': 'agi',\n  'roles\\n': '\"[\\'Support\\', \\'Initiator\\', \\'Disabler\\', \\'Nuker\\', \\'Escape\\']\"\\n'},\n {'': '20',\n  'attack_type': 'Ranged',\n  'id': '21',\n  'legs': '2',\n  'localized_name': 'Windranger',\n  'name': 'npc_dota_hero_windrunner',\n  'primary_attr': 'int',\n  'roles\\n': '\"[\\'Carry\\', \\'Support\\', \\'Disabler\\', \\'Escape\\', \\'Nuker\\']\"\\n'},\n {'': '21',\n  'attack_type': 'Ranged',\n  'id': '22',\n  'legs': '2',\n  'localized_name': 'Zeus',\n  'name': 'npc_dota_hero_zuus',\n  'primary_attr': 'int',\n  'roles\\n': \"['Nuker']\\n\"},\n {'': '22',\n  'attack_type': 'Melee',\n  'id': '23',\n  'legs': '2',\n  'localized_name': 'Kunkka',\n  'name': 'npc_dota_hero_kunkka',\n  'primary_attr': 'str',\n  'roles\\n': '\"[\\'Carry\\', \\'Support\\', \\'Disabler\\', \\'Initiator\\', \\'Durable\\', \\'Nuker\\']\"\\n'},\n {'': '23',\n  'attack_type': 'Ranged',\n  'id': '25',\n  'legs': '2',\n  'localized_name': 'Lina',\n  'name': 'npc_dota_hero_lina',\n  'primary_attr': 'int',\n  'roles\\n': '\"[\\'Support\\', \\'Carry\\', \\'Nuker\\', \\'Disabler\\']\"\\n'},\n {'': '24',\n  'attack_type': 'Ranged',\n  'id': '26',\n  'legs': '2',\n  'localized_name': 'Lion',\n  'name': 'npc_dota_hero_lion',\n  'primary_attr': 'int',\n  'roles\\n': '\"[\\'Support\\', \\'Disabler\\', \\'Nuker\\', \\'Initiator\\']\"\\n'},\n {'': '25',\n  'attack_type': 'Ranged',\n  'id': '27',\n  'legs': '2',\n  'localized_name': 'Shadow Shaman',\n  'name': 'npc_dota_hero_shadow_shaman',\n  'primary_attr': 'int',\n  'roles\\n': '\"[\\'Support\\', \\'Pusher\\', \\'Disabler\\', \\'Nuker\\', \\'Initiator\\']\"\\n'},\n {'': '26',\n  'attack_type': 'Melee',\n  'id': '28',\n  'legs': '0',\n  'localized_name': 'Slardar',\n  'name': 'npc_dota_hero_slardar',\n  'primary_attr': 'str',\n  'roles\\n': '\"[\\'Carry\\', \\'Durable\\', \\'Initiator\\', \\'Disabler\\', \\'Escape\\']\"\\n'},\n {'': '27',\n  'attack_type': 'Melee',\n  'id': '29',\n  'legs': '2',\n  'localized_name': 'Tidehunter',\n  'name': 'npc_dota_hero_tidehunter',\n  'primary_attr': 'str',\n  'roles\\n': '\"[\\'Initiator\\', \\'Durable\\', \\'Disabler\\', \\'Nuker\\']\"\\n'},\n {'': '28',\n  'attack_type': 'Ranged',\n  'id': '30',\n  'legs': '2',\n  'localized_name': 'Witch Doctor',\n  'name': 'npc_dota_hero_witch_doctor',\n  'primary_attr': 'int',\n  'roles\\n': '\"[\\'Support\\', \\'Nuker\\', \\'Disabler\\']\"\\n'},\n {'': '29',\n  'attack_type': 'Ranged',\n  'id': '31',\n  'legs': '2',\n  'localized_name': 'Lich',\n  'name': 'npc_dota_hero_lich',\n  'primary_attr': 'int',\n  'roles\\n': '\"[\\'Support\\', \\'Nuker\\']\"\\n'},\n {'': '30',\n  'attack_type': 'Melee',\n  'id': '32',\n  'legs': '2',\n  'localized_name': 'Riki',\n  'name': 'npc_dota_hero_riki',\n  'primary_attr': 'agi',\n  'roles\\n': '\"[\\'Carry\\', \\'Escape\\', \\'Disabler\\']\"\\n'},\n {'': '31',\n  'attack_type': 'Ranged',\n  'id': '33',\n  'legs': '0',\n  'localized_name': 'Enigma',\n  'name': 'npc_dota_hero_enigma',\n  'primary_attr': 'int',\n  'roles\\n': '\"[\\'Disabler\\', \\'Jungler\\', \\'Initiator\\', \\'Pusher\\']\"\\n'},\n {'': '32',\n  'attack_type': 'Ranged',\n  'id': '34',\n  'legs': '2',\n  'localized_name': 'Tinker',\n  'name': 'npc_dota_hero_tinker',\n  'primary_attr': 'int',\n  'roles\\n': '\"[\\'Carry\\', \\'Nuker\\', \\'Pusher\\']\"\\n'},\n {'': '33',\n  'attack_type': 'Ranged',\n  'id': '35',\n  'legs': '2',\n  'localized_name': 'Sniper',\n  'name': 'npc_dota_hero_sniper',\n  'primary_attr': 'agi',\n  'roles\\n': '\"[\\'Carry\\', \\'Nuker\\']\"\\n'},\n {'': '34',\n  'attack_type': 'Ranged',\n  'id': '36',\n  'legs': '2',\n  'localized_name': 'Necrophos',\n  'name': 'npc_dota_hero_necrolyte',\n  'primary_attr': 'int',\n  'roles\\n': '\"[\\'Carry\\', \\'Nuker\\', \\'Durable\\', \\'Disabler\\']\"\\n'},\n {'': '35',\n  'attack_type': 'Ranged',\n  'id': '37',\n  'legs': '2',\n  'localized_name': 'Warlock',\n  'name': 'npc_dota_hero_warlock',\n  'primary_attr': 'int',\n  'roles\\n': '\"[\\'Support\\', \\'Initiator\\', \\'Disabler\\']\"\\n'},\n {'': '36',\n  'attack_type': 'Melee',\n  'id': '38',\n  'legs': '2',\n  'localized_name': 'Beastmaster',\n  'name': 'npc_dota_hero_beastmaster',\n  'primary_attr': 'str',\n  'roles\\n': '\"[\\'Initiator\\', \\'Disabler\\', \\'Durable\\', \\'Nuker\\']\"\\n'},\n {'': '37',\n  'attack_type': 'Ranged',\n  'id': '39',\n  'legs': '2',\n  'localized_name': 'Queen of Pain',\n  'name': 'npc_dota_hero_queenofpain',\n  'primary_attr': 'int',\n  'roles\\n': '\"[\\'Carry\\', \\'Nuker\\', \\'Escape\\']\"\\n'},\n {'': '38',\n  'attack_type': 'Ranged',\n  'id': '40',\n  'legs': '0',\n  'localized_name': 'Venomancer',\n  'name': 'npc_dota_hero_venomancer',\n  'primary_attr': 'agi',\n  'roles\\n': '\"[\\'Support\\', \\'Nuker\\', \\'Initiator\\', \\'Pusher\\', \\'Disabler\\']\"\\n'},\n {'': '39',\n  'attack_type': 'Melee',\n  'id': '41',\n  'legs': '2',\n  'localized_name': 'Faceless Void',\n  'name': 'npc_dota_hero_faceless_void',\n  'primary_attr': 'agi',\n  'roles\\n': '\"[\\'Carry\\', \\'Initiator\\', \\'Disabler\\', \\'Escape\\', \\'Durable\\']\"\\n'},\n {'': '40',\n  'attack_type': 'Melee',\n  'id': '42',\n  'legs': '2',\n  'localized_name': 'Wraith King',\n  'name': 'npc_dota_hero_skeleton_king',\n  'primary_attr': 'str',\n  'roles\\n': '\"[\\'Carry\\', \\'Support\\', \\'Durable\\', \\'Disabler\\', \\'Initiator\\']\"\\n'},\n {'': '41',\n  'attack_type': 'Ranged',\n  'id': '43',\n  'legs': '2',\n  'localized_name': 'Death Prophet',\n  'name': 'npc_dota_hero_death_prophet',\n  'primary_attr': 'int',\n  'roles\\n': '\"[\\'Carry\\', \\'Pusher\\', \\'Nuker\\', \\'Disabler\\']\"\\n'},\n {'': '42',\n  'attack_type': 'Melee',\n  'id': '44',\n  'legs': '2',\n  'localized_name': 'Phantom Assassin',\n  'name': 'npc_dota_hero_phantom_assassin',\n  'primary_attr': 'agi',\n  'roles\\n': '\"[\\'Carry\\', \\'Escape\\']\"\\n'},\n {'': '43',\n  'attack_type': 'Ranged',\n  'id': '45',\n  'legs': '2',\n  'localized_name': 'Pugna',\n  'name': 'npc_dota_hero_pugna',\n  'primary_attr': 'int',\n  'roles\\n': '\"[\\'Nuker\\', \\'Pusher\\']\"\\n'},\n {'': '44',\n  'attack_type': 'Ranged',\n  'id': '46',\n  'legs': '2',\n  'localized_name': 'Templar Assassin',\n  'name': 'npc_dota_hero_templar_assassin',\n  'primary_attr': 'agi',\n  'roles\\n': '\"[\\'Carry\\', \\'Escape\\']\"\\n'},\n {'': '45',\n  'attack_type': 'Ranged',\n  'id': '47',\n  'legs': '0',\n  'localized_name': 'Viper',\n  'name': 'npc_dota_hero_viper',\n  'primary_attr': 'agi',\n  'roles\\n': '\"[\\'Carry\\', \\'Durable\\', \\'Initiator\\', \\'Disabler\\']\"\\n'},\n {'': '46',\n  'attack_type': 'Ranged',\n  'id': '48',\n  'legs': '2',\n  'localized_name': 'Luna',\n  'name': 'npc_dota_hero_luna',\n  'primary_attr': 'agi',\n  'roles\\n': '\"[\\'Carry\\', \\'Nuker\\', \\'Pusher\\']\"\\n'},\n {'': '47',\n  'attack_type': 'Melee',\n  'id': '49',\n  'legs': '2',\n  'localized_name': 'Dragon Knight',\n  'name': 'npc_dota_hero_dragon_knight',\n  'primary_attr': 'str',\n  'roles\\n': '\"[\\'Carry\\', \\'Pusher\\', \\'Durable\\', \\'Disabler\\', \\'Initiator\\', \\'Nuker\\']\"\\n'},\n {'': '48',\n  'attack_type': 'Ranged',\n  'id': '50',\n  'legs': '2',\n  'localized_name': 'Dazzle',\n  'name': 'npc_dota_hero_dazzle',\n  'primary_attr': 'int',\n  'roles\\n': '\"[\\'Support\\', \\'Nuker\\', \\'Disabler\\']\"\\n'},\n {'': '49',\n  'attack_type': 'Melee',\n  'id': '51',\n  'legs': '2',\n  'localized_name': 'Clockwerk',\n  'name': 'npc_dota_hero_rattletrap',\n  'primary_attr': 'str',\n  'roles\\n': '\"[\\'Initiator\\', \\'Disabler\\', \\'Durable\\', \\'Nuker\\']\"\\n'},\n {'': '50',\n  'attack_type': 'Ranged',\n  'id': '52',\n  'legs': '4',\n  'localized_name': 'Leshrac',\n  'name': 'npc_dota_hero_leshrac',\n  'primary_attr': 'int',\n  'roles\\n': '\"[\\'Carry\\', \\'Support\\', \\'Nuker\\', \\'Pusher\\', \\'Disabler\\']\"\\n'},\n {'': '51',\n  'attack_type': 'Ranged',\n  'id': '53',\n  'legs': '2',\n  'localized_name': \"Nature's Prophet\",\n  'name': 'npc_dota_hero_furion',\n  'primary_attr': 'int',\n  'roles\\n': '\"[\\'Carry\\', \\'Jungler\\', \\'Pusher\\', \\'Escape\\', \\'Nuker\\']\"\\n'},\n {'': '52',\n  'attack_type': 'Melee',\n  'id': '54',\n  'legs': '2',\n  'localized_name': 'Lifestealer',\n  'name': 'npc_dota_hero_life_stealer',\n  'primary_attr': 'str',\n  'roles\\n': '\"[\\'Carry\\', \\'Durable\\', \\'Jungler\\', \\'Escape\\', \\'Disabler\\']\"\\n'},\n {'': '53',\n  'attack_type': 'Melee',\n  'id': '55',\n  'legs': '2',\n  'localized_name': 'Dark Seer',\n  'name': 'npc_dota_hero_dark_seer',\n  'primary_attr': 'int',\n  'roles\\n': '\"[\\'Initiator\\', \\'Jungler\\', \\'Escape\\', \\'Disabler\\']\"\\n'},\n {'': '54',\n  'attack_type': 'Ranged',\n  'id': '56',\n  'legs': '2',\n  'localized_name': 'Clinkz',\n  'name': 'npc_dota_hero_clinkz',\n  'primary_attr': 'agi',\n  'roles\\n': '\"[\\'Carry\\', \\'Escape\\', \\'Pusher\\']\"\\n'},\n {'': '55',\n  'attack_type': 'Melee',\n  'id': '57',\n  'legs': '2',\n  'localized_name': 'Omniknight',\n  'name': 'npc_dota_hero_omniknight',\n  'primary_attr': 'str',\n  'roles\\n': '\"[\\'Support\\', \\'Durable\\', \\'Nuker\\']\"\\n'},\n {'': '56',\n  'attack_type': 'Ranged',\n  'id': '58',\n  'legs': '4',\n  'localized_name': 'Enchantress',\n  'name': 'npc_dota_hero_enchantress',\n  'primary_attr': 'int',\n  'roles\\n': '\"[\\'Support\\', \\'Jungler\\', \\'Pusher\\', \\'Durable\\', \\'Disabler\\']\"\\n'},\n {'': '57',\n  'attack_type': 'Ranged',\n  'id': '59',\n  'legs': '2',\n  'localized_name': 'Huskar',\n  'name': 'npc_dota_hero_huskar',\n  'primary_attr': 'str',\n  'roles\\n': '\"[\\'Carry\\', \\'Durable\\', \\'Initiator\\']\"\\n'},\n {'': '58',\n  'attack_type': 'Melee',\n  'id': '60',\n  'legs': '2',\n  'localized_name': 'Night Stalker',\n  'name': 'npc_dota_hero_night_stalker',\n  'primary_attr': 'str',\n  'roles\\n': '\"[\\'Carry\\', \\'Initiator\\', \\'Durable\\', \\'Disabler\\', \\'Nuker\\']\"\\n'},\n {'': '59',\n  'attack_type': 'Melee',\n  'id': '61',\n  'legs': '8',\n  'localized_name': 'Broodmother',\n  'name': 'npc_dota_hero_broodmother',\n  'primary_attr': 'agi',\n  'roles\\n': '\"[\\'Carry\\', \\'Pusher\\', \\'Escape\\', \\'Nuker\\']\"\\n'},\n {'': '60',\n  'attack_type': 'Melee',\n  'id': '62',\n  'legs': '2',\n  'localized_name': 'Bounty Hunter',\n  'name': 'npc_dota_hero_bounty_hunter',\n  'primary_attr': 'agi',\n  'roles\\n': '\"[\\'Escape\\', \\'Nuker\\']\"\\n'},\n {'': '61',\n  'attack_type': 'Ranged',\n  'id': '63',\n  'legs': '4',\n  'localized_name': 'Weaver',\n  'name': 'npc_dota_hero_weaver',\n  'primary_attr': 'agi',\n  'roles\\n': '\"[\\'Carry\\', \\'Escape\\']\"\\n'},\n {'': '62',\n  'attack_type': 'Ranged',\n  'id': '64',\n  'legs': '2',\n  'localized_name': 'Jakiro',\n  'name': 'npc_dota_hero_jakiro',\n  'primary_attr': 'int',\n  'roles\\n': '\"[\\'Support\\', \\'Nuker\\', \\'Pusher\\', \\'Disabler\\']\"\\n'},\n {'': '63',\n  'attack_type': 'Ranged',\n  'id': '65',\n  'legs': '2',\n  'localized_name': 'Batrider',\n  'name': 'npc_dota_hero_batrider',\n  'primary_attr': 'int',\n  'roles\\n': '\"[\\'Initiator\\', \\'Jungler\\', \\'Disabler\\', \\'Escape\\']\"\\n'},\n {'': '64',\n  'attack_type': 'Ranged',\n  'id': '66',\n  'legs': '2',\n  'localized_name': 'Chen',\n  'name': 'npc_dota_hero_chen',\n  'primary_attr': 'int',\n  'roles\\n': '\"[\\'Support\\', \\'Jungler\\', \\'Pusher\\']\"\\n'},\n {'': '65',\n  'attack_type': 'Melee',\n  'id': '67',\n  'legs': '0',\n  'localized_name': 'Spectre',\n  'name': 'npc_dota_hero_spectre',\n  'primary_attr': 'agi',\n  'roles\\n': '\"[\\'Carry\\', \\'Durable\\', \\'Escape\\']\"\\n'},\n {'': '66',\n  'attack_type': 'Ranged',\n  'id': '68',\n  'legs': '2',\n  'localized_name': 'Ancient Apparition',\n  'name': 'npc_dota_hero_ancient_apparition',\n  'primary_attr': 'int',\n  'roles\\n': '\"[\\'Support\\', \\'Disabler\\', \\'Nuker\\']\"\\n'},\n {'': '67',\n  'attack_type': 'Melee',\n  'id': '69',\n  'legs': '2',\n  'localized_name': 'Doom',\n  'name': 'npc_dota_hero_doom_bringer',\n  'primary_attr': 'str',\n  'roles\\n': '\"[\\'Carry\\', \\'Disabler\\', \\'Initiator\\', \\'Durable\\', \\'Nuker\\']\"\\n'},\n {'': '68',\n  'attack_type': 'Melee',\n  'id': '70',\n  'legs': '2',\n  'localized_name': 'Ursa',\n  'name': 'npc_dota_hero_ursa',\n  'primary_attr': 'agi',\n  'roles\\n': '\"[\\'Carry\\', \\'Jungler\\', \\'Durable\\', \\'Disabler\\']\"\\n'},\n {'': '69',\n  'attack_type': 'Melee',\n  'id': '71',\n  'legs': '2',\n  'localized_name': 'Spirit Breaker',\n  'name': 'npc_dota_hero_spirit_breaker',\n  'primary_attr': 'str',\n  'roles\\n': '\"[\\'Carry\\', \\'Initiator\\', \\'Disabler\\', \\'Durable\\', \\'Escape\\']\"\\n'},\n {'': '70',\n  'attack_type': 'Ranged',\n  'id': '72',\n  'legs': '2',\n  'localized_name': 'Gyrocopter',\n  'name': 'npc_dota_hero_gyrocopter',\n  'primary_attr': 'agi',\n  'roles\\n': '\"[\\'Carry\\', \\'Nuker\\', \\'Disabler\\']\"\\n'},\n {'': '71',\n  'attack_type': 'Melee',\n  'id': '73',\n  'legs': '2',\n  'localized_name': 'Alchemist',\n  'name': 'npc_dota_hero_alchemist',\n  'primary_attr': 'str',\n  'roles\\n': '\"[\\'Carry\\', \\'Support\\', \\'Durable\\', \\'Disabler\\', \\'Initiator\\', \\'Nuker\\']\"\\n'},\n {'': '72',\n  'attack_type': 'Ranged',\n  'id': '74',\n  'legs': '2',\n  'localized_name': 'Invoker',\n  'name': 'npc_dota_hero_invoker',\n  'primary_attr': 'int',\n  'roles\\n': '\"[\\'Carry\\', \\'Nuker\\', \\'Disabler\\', \\'Escape\\', \\'Pusher\\']\"\\n'},\n {'': '73',\n  'attack_type': 'Ranged',\n  'id': '75',\n  'legs': '2',\n  'localized_name': 'Silencer',\n  'name': 'npc_dota_hero_silencer',\n  'primary_attr': 'int',\n  'roles\\n': '\"[\\'Carry\\', \\'Support\\', \\'Disabler\\', \\'Initiator\\', \\'Nuker\\']\"\\n'},\n {'': '74',\n  'attack_type': 'Ranged',\n  'id': '76',\n  'legs': '4',\n  'localized_name': 'Outworld Devourer',\n  'name': 'npc_dota_hero_obsidian_destroyer',\n  'primary_attr': 'int',\n  'roles\\n': '\"[\\'Carry\\', \\'Nuker\\', \\'Disabler\\']\"\\n'},\n {'': '75',\n  'attack_type': 'Melee',\n  'id': '77',\n  'legs': '2',\n  'localized_name': 'Lycan',\n  'name': 'npc_dota_hero_lycan',\n  'primary_attr': 'str',\n  'roles\\n': '\"[\\'Carry\\', \\'Pusher\\', \\'Jungler\\', \\'Durable\\', \\'Escape\\']\"\\n'},\n {'': '76',\n  'attack_type': 'Melee',\n  'id': '78',\n  'legs': '2',\n  'localized_name': 'Brewmaster',\n  'name': 'npc_dota_hero_brewmaster',\n  'primary_attr': 'str',\n  'roles\\n': '\"[\\'Carry\\', \\'Initiator\\', \\'Durable\\', \\'Disabler\\', \\'Nuker\\']\"\\n'},\n {'': '77',\n  'attack_type': 'Ranged',\n  'id': '79',\n  'legs': '2',\n  'localized_name': 'Shadow Demon',\n  'name': 'npc_dota_hero_shadow_demon',\n  'primary_attr': 'int',\n  'roles\\n': '\"[\\'Support\\', \\'Disabler\\', \\'Initiator\\', \\'Nuker\\']\"\\n'},\n {'': '78',\n  'attack_type': 'Ranged',\n  'id': '80',\n  'legs': '2',\n  'localized_name': 'Lone Druid',\n  'name': 'npc_dota_hero_lone_druid',\n  'primary_attr': 'agi',\n  'roles\\n': '\"[\\'Carry\\', \\'Pusher\\', \\'Jungler\\', \\'Durable\\']\"\\n'},\n {'': '79',\n  'attack_type': 'Melee',\n  'id': '81',\n  'legs': '2',\n  'localized_name': 'Chaos Knight',\n  'name': 'npc_dota_hero_chaos_knight',\n  'primary_attr': 'str',\n  'roles\\n': '\"[\\'Carry\\', \\'Disabler\\', \\'Durable\\', \\'Pusher\\', \\'Initiator\\']\"\\n'},\n {'': '80',\n  'attack_type': 'Melee',\n  'id': '82',\n  'legs': '2',\n  'localized_name': 'Meepo',\n  'name': 'npc_dota_hero_meepo',\n  'primary_attr': 'agi',\n  'roles\\n': '\"[\\'Carry\\', \\'Escape\\', \\'Nuker\\', \\'Disabler\\', \\'Initiator\\', \\'Pusher\\']\"\\n'},\n {'': '81',\n  'attack_type': 'Melee',\n  'id': '83',\n  'legs': '2',\n  'localized_name': 'Treant Protector',\n  'name': 'npc_dota_hero_treant',\n  'primary_attr': 'str',\n  'roles\\n': '\"[\\'Support\\', \\'Initiator\\', \\'Durable\\', \\'Disabler\\', \\'Escape\\']\"\\n'},\n {'': '82',\n  'attack_type': 'Melee',\n  'id': '84',\n  'legs': '2',\n  'localized_name': 'Ogre Magi',\n  'name': 'npc_dota_hero_ogre_magi',\n  'primary_attr': 'int',\n  'roles\\n': '\"[\\'Support\\', \\'Nuker\\', \\'Disabler\\', \\'Durable\\', \\'Initiator\\']\"\\n'},\n {'': '83',\n  'attack_type': 'Melee',\n  'id': '85',\n  'legs': '2',\n  'localized_name': 'Undying',\n  'name': 'npc_dota_hero_undying',\n  'primary_attr': 'str',\n  'roles\\n': '\"[\\'Support\\', \\'Durable\\', \\'Disabler\\', \\'Nuker\\']\"\\n'},\n {'': '84',\n  'attack_type': 'Ranged',\n  'id': '86',\n  'legs': '2',\n  'localized_name': 'Rubick',\n  'name': 'npc_dota_hero_rubick',\n  'primary_attr': 'int',\n  'roles\\n': '\"[\\'Support\\', \\'Disabler\\', \\'Nuker\\']\"\\n'},\n {'': '85',\n  'attack_type': 'Ranged',\n  'id': '87',\n  'legs': '2',\n  'localized_name': 'Disruptor',\n  'name': 'npc_dota_hero_disruptor',\n  'primary_attr': 'int',\n  'roles\\n': '\"[\\'Support\\', \\'Disabler\\', \\'Nuker\\', \\'Initiator\\']\"\\n'},\n {'': '86',\n  'attack_type': 'Melee',\n  'id': '88',\n  'legs': '6',\n  'localized_name': 'Nyx Assassin',\n  'name': 'npc_dota_hero_nyx_assassin',\n  'primary_attr': 'agi',\n  'roles\\n': '\"[\\'Disabler\\', \\'Nuker\\', \\'Initiator\\', \\'Escape\\']\"\\n'},\n {'': '87',\n  'attack_type': 'Melee',\n  'id': '89',\n  'legs': '0',\n  'localized_name': 'Naga Siren',\n  'name': 'npc_dota_hero_naga_siren',\n  'primary_attr': 'agi',\n  'roles\\n': '\"[\\'Carry\\', \\'Support\\', \\'Pusher\\', \\'Disabler\\', \\'Initiator\\', \\'Escape\\']\"\\n'},\n {'': '88',\n  'attack_type': 'Ranged',\n  'id': '90',\n  'legs': '2',\n  'localized_name': 'Keeper of the Light',\n  'name': 'npc_dota_hero_keeper_of_the_light',\n  'primary_attr': 'int',\n  'roles\\n': '\"[\\'Support\\', \\'Nuker\\', \\'Disabler\\', \\'Jungler\\']\"\\n'},\n {'': '89',\n  'attack_type': 'Ranged',\n  'id': '91',\n  'legs': '0',\n  'localized_name': 'Io',\n  'name': 'npc_dota_hero_wisp',\n  'primary_attr': 'str',\n  'roles\\n': '\"[\\'Support\\', \\'Escape\\', \\'Nuker\\']\"\\n'},\n {'': '90',\n  'attack_type': 'Ranged',\n  'id': '92',\n  'legs': '2',\n  'localized_name': 'Visage',\n  'name': 'npc_dota_hero_visage',\n  'primary_attr': 'int',\n  'roles\\n': '\"[\\'Support\\', \\'Nuker\\', \\'Durable\\', \\'Disabler\\', \\'Pusher\\']\"\\n'},\n {'': '91',\n  'attack_type': 'Melee',\n  'id': '93',\n  'legs': '2',\n  'localized_name': 'Slark',\n  'name': 'npc_dota_hero_slark',\n  'primary_attr': 'agi',\n  'roles\\n': '\"[\\'Carry\\', \\'Escape\\', \\'Disabler\\', \\'Nuker\\']\"\\n'},\n {'': '92',\n  'attack_type': 'Ranged',\n  'id': '94',\n  'legs': '0',\n  'localized_name': 'Medusa',\n  'name': 'npc_dota_hero_medusa',\n  'primary_attr': 'agi',\n  'roles\\n': '\"[\\'Carry\\', \\'Disabler\\', \\'Durable\\']\"\\n'},\n {'': '93',\n  'attack_type': 'Ranged',\n  'id': '95',\n  'legs': '2',\n  'localized_name': 'Troll Warlord',\n  'name': 'npc_dota_hero_troll_warlord',\n  'primary_attr': 'agi',\n  'roles\\n': '\"[\\'Carry\\', \\'Pusher\\', \\'Disabler\\', \\'Durable\\']\"\\n'},\n {'': '94',\n  'attack_type': 'Melee',\n  'id': '96',\n  'legs': '4',\n  'localized_name': 'Centaur Warrunner',\n  'name': 'npc_dota_hero_centaur',\n  'primary_attr': 'str',\n  'roles\\n': '\"[\\'Durable\\', \\'Initiator\\', \\'Disabler\\', \\'Nuker\\', \\'Escape\\']\"\\n'},\n {'': '95',\n  'attack_type': 'Melee',\n  'id': '97',\n  'legs': '4',\n  'localized_name': 'Magnus',\n  'name': 'npc_dota_hero_magnataur',\n  'primary_attr': 'str',\n  'roles\\n': '\"[\\'Initiator\\', \\'Disabler\\', \\'Nuker\\', \\'Escape\\']\"\\n'},\n {'': '96',\n  'attack_type': 'Melee',\n  'id': '98',\n  'legs': '2',\n  'localized_name': 'Timbersaw',\n  'name': 'npc_dota_hero_shredder',\n  'primary_attr': 'str',\n  'roles\\n': '\"[\\'Nuker\\', \\'Durable\\', \\'Escape\\']\"\\n'},\n {'': '97',\n  'attack_type': 'Melee',\n  'id': '99',\n  'legs': '2',\n  'localized_name': 'Bristleback',\n  'name': 'npc_dota_hero_bristleback',\n  'primary_attr': 'str',\n  'roles\\n': '\"[\\'Carry\\', \\'Durable\\', \\'Initiator\\', \\'Nuker\\']\"\\n'},\n {'': '98',\n  'attack_type': 'Melee',\n  'id': '100',\n  'legs': '2',\n  'localized_name': 'Tusk',\n  'name': 'npc_dota_hero_tusk',\n  'primary_attr': 'str',\n  'roles\\n': '\"[\\'Initiator\\', \\'Disabler\\', \\'Nuker\\']\"\\n'},\n {'': '99',\n  'attack_type': 'Ranged',\n  'id': '101',\n  'legs': '2',\n  'localized_name': 'Skywrath Mage',\n  'name': 'npc_dota_hero_skywrath_mage',\n  'primary_attr': 'int',\n  'roles\\n': '\"[\\'Support\\', \\'Nuker\\', \\'Disabler\\']\"\\n'},\n {'': '100',\n  'attack_type': 'Melee',\n  'id': '102',\n  'legs': '2',\n  'localized_name': 'Abaddon',\n  'name': 'npc_dota_hero_abaddon',\n  'primary_attr': 'str',\n  'roles\\n': '\"[\\'Support\\', \\'Carry\\', \\'Durable\\']\"\\n'},\n {'': '101',\n  'attack_type': 'Melee',\n  'id': '103',\n  'legs': '2',\n  'localized_name': 'Elder Titan',\n  'name': 'npc_dota_hero_elder_titan',\n  'primary_attr': 'str',\n  'roles\\n': '\"[\\'Initiator\\', \\'Disabler\\', \\'Nuker\\', \\'Durable\\']\"\\n'},\n {'': '102',\n  'attack_type': 'Melee',\n  'id': '104',\n  'legs': '2',\n  'localized_name': 'Legion Commander',\n  'name': 'npc_dota_hero_legion_commander',\n  'primary_attr': 'str',\n  'roles\\n': '\"[\\'Carry\\', \\'Disabler\\', \\'Initiator\\', \\'Durable\\', \\'Nuker\\']\"\\n'},\n {'': '103',\n  'attack_type': 'Ranged',\n  'id': '105',\n  'legs': '6',\n  'localized_name': 'Techies',\n  'name': 'npc_dota_hero_techies',\n  'primary_attr': 'int',\n  'roles\\n': '\"[\\'Nuker\\', \\'Disabler\\']\"\\n'},\n {'': '104',\n  'attack_type': 'Melee',\n  'id': '106',\n  'legs': '2',\n  'localized_name': 'Ember Spirit',\n  'name': 'npc_dota_hero_ember_spirit',\n  'primary_attr': 'agi',\n  'roles\\n': '\"[\\'Carry\\', \\'Escape\\', \\'Nuker\\', \\'Disabler\\', \\'Initiator\\']\"\\n'},\n {'': '105',\n  'attack_type': 'Melee',\n  'id': '107',\n  'legs': '2',\n  'localized_name': 'Earth Spirit',\n  'name': 'npc_dota_hero_earth_spirit',\n  'primary_attr': 'str',\n  'roles\\n': '\"[\\'Nuker\\', \\'Escape\\', \\'Disabler\\', \\'Initiator\\', \\'Durable\\']\"\\n'},\n {'': '106',\n  'attack_type': 'Melee',\n  'id': '108',\n  'legs': '2',\n  'localized_name': 'Underlord',\n  'name': 'npc_dota_hero_abyssal_underlord',\n  'primary_attr': 'str',\n  'roles\\n': '\"[\\'Support\\', \\'Nuker\\', \\'Disabler\\', \\'Durable\\', \\'Escape\\']\"\\n'},\n {'': '107',\n  'attack_type': 'Melee',\n  'id': '109',\n  'legs': '2',\n  'localized_name': 'Terrorblade',\n  'name': 'npc_dota_hero_terrorblade',\n  'primary_attr': 'agi',\n  'roles\\n': '\"[\\'Carry\\', \\'Pusher\\', \\'Nuker\\']\"\\n'},\n {'': '108',\n  'attack_type': 'Ranged',\n  'id': '110',\n  'legs': '2',\n  'localized_name': 'Phoenix',\n  'name': 'npc_dota_hero_phoenix',\n  'primary_attr': 'str',\n  'roles\\n': '\"[\\'Support\\', \\'Nuker\\', \\'Initiator\\', \\'Escape\\', \\'Disabler\\']\"\\n'},\n {'': '109',\n  'attack_type': 'Ranged',\n  'id': '111',\n  'legs': '2',\n  'localized_name': 'Oracle',\n  'name': 'npc_dota_hero_oracle',\n  'primary_attr': 'int',\n  'roles\\n': '\"[\\'Support\\', \\'Nuker\\', \\'Disabler\\', \\'Escape\\']\"\\n'},\n {'': '110',\n  'attack_type': 'Ranged',\n  'id': '112',\n  'legs': '2',\n  'localized_name': 'Winter Wyvern',\n  'name': 'npc_dota_hero_winter_wyvern',\n  'primary_attr': 'int',\n  'roles\\n': '\"[\\'Support\\', \\'Disabler\\', \\'Nuker\\']\"\\n'},\n {'': '111',\n  'attack_type': 'Ranged',\n  'id': '113',\n  'legs': '2',\n  'localized_name': 'Arc Warden',\n  'name': 'npc_dota_hero_arc_warden',\n  'primary_attr': 'agi',\n  'roles\\n': '\"[\\'Carry\\', \\'Escape\\', \\'Nuker\\']\"\\n'},\n {'': '112',\n  'attack_type': 'Melee',\n  'id': '114',\n  'legs': '2',\n  'localized_name': 'Monkey King',\n  'name': 'npc_dota_hero_monkey_king',\n  'primary_attr': 'agi',\n  'roles\\n': '\"[\\'Carry\\', \\'Escape\\', \\'Disabler\\', \\'Initiator\\']\"\\n'},\n {'': '113',\n  'attack_type': 'Ranged',\n  'id': '119',\n  'legs': '2',\n  'localized_name': 'Dark Willow',\n  'name': 'npc_dota_hero_dark_willow',\n  'primary_attr': 'int',\n  'roles\\n': '\"[\\'Support\\', \\'Nuker\\', \\'Disabler\\', \\'Escape\\']\"\\n'},\n {'': '114',\n  'attack_type': 'Melee',\n  'id': '120',\n  'legs': '2',\n  'localized_name': 'Pangolier',\n  'name': 'npc_dota_hero_pangolier',\n  'primary_attr': 'agi',\n  'roles\\n': '\"[\\'Carry\\', \\'Nuker\\', \\'Disabler\\', \\'Durable\\', \\'Escape\\', \\'Initiator\\']\"\\n'},\n {'': '115',\n  'attack_type': 'Ranged',\n  'id': '121',\n  'legs': '2',\n  'localized_name': 'Grimstroke',\n  'name': 'npc_dota_hero_grimstroke',\n  'primary_attr': 'int',\n  'roles\\n': '\"[\\'Support\\', \\'Nuker\\', \\'Disabler\\', \\'Escape\\']\"\\n'},\n {'': '116',\n  'attack_type': 'Melee',\n  'id': '129',\n  'legs': '2',\n  'localized_name': 'Mars',\n  'name': 'npc_dota_hero_mars',\n  'primary_attr': 'str',\n  'roles\\n': '\"[\\'Carry\\', \\'Initiator\\', \\'Disabler\\', \\'Durable\\']\"\\n'}]"
     },
     "execution_count": 6,
     "metadata": {},
     "output_type": "execute_result"
    }
   ],
   "source": [
    "stats_dict"
   ],
   "metadata": {
    "collapsed": false,
    "ExecuteTime": {
     "end_time": "2024-01-19T13:07:06.572106600Z",
     "start_time": "2024-01-19T13:07:06.532325300Z"
    }
   }
  }
 ],
 "metadata": {
  "colab": {
   "provenance": []
  },
  "kernelspec": {
   "display_name": "Python 3 (ipykernel)",
   "language": "python",
   "name": "python3"
  },
  "language_info": {
   "codemirror_mode": {
    "name": "ipython",
    "version": 3
   },
   "file_extension": ".py",
   "mimetype": "text/x-python",
   "name": "python",
   "nbconvert_exporter": "python",
   "pygments_lexer": "ipython3",
   "version": "3.9.12"
  }
 },
 "nbformat": 4,
 "nbformat_minor": 4
}
