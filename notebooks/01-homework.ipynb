{
 "cells": [
  {
   "cell_type": "code",
   "execution_count": 1,
   "id": "initial_id",
   "metadata": {
    "collapsed": true,
    "ExecuteTime": {
     "end_time": "2024-01-19T15:07:57.808414600Z",
     "start_time": "2024-01-19T15:07:57.806281700Z"
    }
   },
   "outputs": [
    {
     "data": {
      "text/plain": "{'mean': 6.5, 'median': 5.0, 'mode': 5}"
     },
     "execution_count": 1,
     "metadata": {},
     "output_type": "execute_result"
    }
   ],
   "source": [
    "def easy(list):\n",
    "    return {\"mean\": sum(list)/len(list), \"median\": (sorted(list)[len(list)//2] + sorted(list)[len(list)//2 - (len(list)%2 == 0)])/2, \"mode\": sorted([(list.count(e), e) for e in set(list)])[-1][1]}\n",
    "easy([1, 15, 5, 5])"
   ]
  },
  {
   "cell_type": "code",
   "execution_count": 2,
   "outputs": [
    {
     "data": {
      "text/plain": "',attack_type,id,legs,localized_name,name,primary_attr,roles\\n0,Melee,1,2,Anti-Mage,npc_dota_hero_antimage,agi,\"[\\'Carry\\', \\'Escape\\', \\'Nuker\\']\"\\n1,Melee,2,2,Axe,npc_dota_hero_axe,str,\"[\\'Initiator\\', \\'Durable\\', \\'Disabler\\', \\'Jungler\\']\"\\n2,Ranged,3,4,Bane,npc_dota_hero_bane,int,\"[\\'Support\\', \\'Disabler\\', \\'Nuker\\', \\'Durable\\']\"\\n3,Melee,4,2,Bloodseeker,npc_dota_hero_bloodseeker,agi,\"[\\'Carry\\', \\'Disabler\\', \\'Jungler\\', \\'Nuker\\', \\'Initiator\\']\"\\n4,Ranged,5,2,Crystal Maiden,npc_dota_hero_crystal_maiden,int,\"[\\'Support\\', \\'Disabler\\', \\'Nuker\\', \\'Jungler\\']\"\\n5,Ranged,6,2,Drow Ranger,npc_dota_hero_drow_ranger,agi,\"[\\'Carry\\', \\'Disabler\\', \\'Pusher\\']\"\\n6,Melee,7,2,Earthshaker,npc_dota_hero_earthshaker,str,\"[\\'Support\\', \\'Initiator\\', \\'Disabler\\', \\'Nuker\\']\"\\n7,Melee,8,2,Juggernaut,npc_dota_hero_juggernaut,agi,\"[\\'Carry\\', \\'Pusher\\', \\'Escape\\']\"\\n8,Ranged,9,2,Mirana,npc_dota_hero_mirana,agi,\"[\\'Carry\\', \\'Support\\', \\'Escape\\', \\'Nuker\\', \\'Disabler\\']\"\\n9,Ranged,10,0,Morphling,npc_dota_hero_morphling,agi,\"[\\'Carry\\', \\'Escape\\', \\'Durable\\', \\'Nuker\\', \\'Disabler\\']\"\\n10,Ranged,11,0,Shadow Fiend,npc_dota_hero_nevermore,agi,\"[\\'Carry\\', \\'Nuker\\']\"\\n11,Melee,12,2,Phantom Lancer,npc_dota_hero_phantom_lancer,agi,\"[\\'Carry\\', \\'Escape\\', \\'Pusher\\', \\'Nuker\\']\"\\n12,Ranged,13,2,Puck,npc_dota_hero_puck,int,\"[\\'Initiator\\', \\'Disabler\\', \\'Escape\\', \\'Nuker\\']\"\\n13,Melee,14,2,Pudge,npc_dota_hero_pudge,str,\"[\\'Disabler\\', \\'Initiator\\', \\'Durable\\', \\'Nuker\\']\"\\n14,Ranged,15,0,Razor,npc_dota_hero_razor,agi,\"[\\'Carry\\', \\'Durable\\', \\'Nuker\\', \\'Pusher\\']\"\\n15,Melee,16,6,Sand King,npc_dota_hero_sand_king,str,\"[\\'Initiator\\', \\'Disabler\\', \\'Support\\', \\'Nuker\\', \\'Escape\\', \\'Jungler\\']\"\\n16,Ranged,17,2,Storm Spirit,npc_dota_hero_storm_spirit,int,\"[\\'Carry\\', \\'Escape\\', \\'Nuker\\', \\'Initiator\\', \\'Disabler\\']\"\\n17,Melee,18,2,Sven,npc_dota_hero_sven,str,\"[\\'Carry\\', \\'Disabler\\', \\'Initiator\\', \\'Durable\\', \\'Nuker\\']\"\\n18,Melee,19,2,Tiny,npc_dota_hero_tiny,str,\"[\\'Carry\\', \\'Nuker\\', \\'Pusher\\', \\'Initiator\\', \\'Durable\\', \\'Disabler\\']\"\\n19,Ranged,20,2,Vengeful Spirit,npc_dota_hero_vengefulspirit,agi,\"[\\'Support\\', \\'Initiator\\', \\'Disabler\\', \\'Nuker\\', \\'Escape\\']\"\\n20,Ranged,21,2,Windranger,npc_dota_hero_windrunner,int,\"[\\'Carry\\', \\'Support\\', \\'Disabler\\', \\'Escape\\', \\'Nuker\\']\"\\n21,Ranged,22,2,Zeus,npc_dota_hero_zuus,int,[\\'Nuker\\']\\n22,Melee,23,2,Kunkka,npc_dota_hero_kunkka,str,\"[\\'Carry\\', \\'Support\\', \\'Disabler\\', \\'Initiator\\', \\'Durable\\', \\'Nuker\\']\"\\n23,Ranged,25,2,Lina,npc_dota_hero_lina,int,\"[\\'Support\\', \\'Carry\\', \\'Nuker\\', \\'Disabler\\']\"\\n24,Ranged,26,2,Lion,npc_dota_hero_lion,int,\"[\\'Support\\', \\'Disabler\\', \\'Nuker\\', \\'Initiator\\']\"\\n25,Ranged,27,2,Shadow Shaman,npc_dota_hero_shadow_shaman,int,\"[\\'Support\\', \\'Pusher\\', \\'Disabler\\', \\'Nuker\\', \\'Initiator\\']\"\\n26,Melee,28,0,Slardar,npc_dota_hero_slardar,str,\"[\\'Carry\\', \\'Durable\\', \\'Initiator\\', \\'Disabler\\', \\'Escape\\']\"\\n27,Melee,29,2,Tidehunter,npc_dota_hero_tidehunter,str,\"[\\'Initiator\\', \\'Durable\\', \\'Disabler\\', \\'Nuker\\']\"\\n28,Ranged,30,2,Witch Doctor,npc_dota_hero_witch_doctor,int,\"[\\'Support\\', \\'Nuker\\', \\'Disabler\\']\"\\n29,Ranged,31,2,Lich,npc_dota_hero_lich,int,\"[\\'Support\\', \\'Nuker\\']\"\\n30,Melee,32,2,Riki,npc_dota_hero_riki,agi,\"[\\'Carry\\', \\'Escape\\', \\'Disabler\\']\"\\n31,Ranged,33,0,Enigma,npc_dota_hero_enigma,int,\"[\\'Disabler\\', \\'Jungler\\', \\'Initiator\\', \\'Pusher\\']\"\\n32,Ranged,34,2,Tinker,npc_dota_hero_tinker,int,\"[\\'Carry\\', \\'Nuker\\', \\'Pusher\\']\"\\n33,Ranged,35,2,Sniper,npc_dota_hero_sniper,agi,\"[\\'Carry\\', \\'Nuker\\']\"\\n34,Ranged,36,2,Necrophos,npc_dota_hero_necrolyte,int,\"[\\'Carry\\', \\'Nuker\\', \\'Durable\\', \\'Disabler\\']\"\\n35,Ranged,37,2,Warlock,npc_dota_hero_warlock,int,\"[\\'Support\\', \\'Initiator\\', \\'Disabler\\']\"\\n36,Melee,38,2,Beastmaster,npc_dota_hero_beastmaster,str,\"[\\'Initiator\\', \\'Disabler\\', \\'Durable\\', \\'Nuker\\']\"\\n37,Ranged,39,2,Queen of Pain,npc_dota_hero_queenofpain,int,\"[\\'Carry\\', \\'Nuker\\', \\'Escape\\']\"\\n38,Ranged,40,0,Venomancer,npc_dota_hero_venomancer,agi,\"[\\'Support\\', \\'Nuker\\', \\'Initiator\\', \\'Pusher\\', \\'Disabler\\']\"\\n39,Melee,41,2,Faceless Void,npc_dota_hero_faceless_void,agi,\"[\\'Carry\\', \\'Initiator\\', \\'Disabler\\', \\'Escape\\', \\'Durable\\']\"\\n40,Melee,42,2,Wraith King,npc_dota_hero_skeleton_king,str,\"[\\'Carry\\', \\'Support\\', \\'Durable\\', \\'Disabler\\', \\'Initiator\\']\"\\n41,Ranged,43,2,Death Prophet,npc_dota_hero_death_prophet,int,\"[\\'Carry\\', \\'Pusher\\', \\'Nuker\\', \\'Disabler\\']\"\\n42,Melee,44,2,Phantom Assassin,npc_dota_hero_phantom_assassin,agi,\"[\\'Carry\\', \\'Escape\\']\"\\n43,Ranged,45,2,Pugna,npc_dota_hero_pugna,int,\"[\\'Nuker\\', \\'Pusher\\']\"\\n44,Ranged,46,2,Templar Assassin,npc_dota_hero_templar_assassin,agi,\"[\\'Carry\\', \\'Escape\\']\"\\n45,Ranged,47,0,Viper,npc_dota_hero_viper,agi,\"[\\'Carry\\', \\'Durable\\', \\'Initiator\\', \\'Disabler\\']\"\\n46,Ranged,48,2,Luna,npc_dota_hero_luna,agi,\"[\\'Carry\\', \\'Nuker\\', \\'Pusher\\']\"\\n47,Melee,49,2,Dragon Knight,npc_dota_hero_dragon_knight,str,\"[\\'Carry\\', \\'Pusher\\', \\'Durable\\', \\'Disabler\\', \\'Initiator\\', \\'Nuker\\']\"\\n48,Ranged,50,2,Dazzle,npc_dota_hero_dazzle,int,\"[\\'Support\\', \\'Nuker\\', \\'Disabler\\']\"\\n49,Melee,51,2,Clockwerk,npc_dota_hero_rattletrap,str,\"[\\'Initiator\\', \\'Disabler\\', \\'Durable\\', \\'Nuker\\']\"\\n50,Ranged,52,4,Leshrac,npc_dota_hero_leshrac,int,\"[\\'Carry\\', \\'Support\\', \\'Nuker\\', \\'Pusher\\', \\'Disabler\\']\"\\n51,Ranged,53,2,Nature\\'s Prophet,npc_dota_hero_furion,int,\"[\\'Carry\\', \\'Jungler\\', \\'Pusher\\', \\'Escape\\', \\'Nuker\\']\"\\n52,Melee,54,2,Lifestealer,npc_dota_hero_life_stealer,str,\"[\\'Carry\\', \\'Durable\\', \\'Jungler\\', \\'Escape\\', \\'Disabler\\']\"\\n53,Melee,55,2,Dark Seer,npc_dota_hero_dark_seer,int,\"[\\'Initiator\\', \\'Jungler\\', \\'Escape\\', \\'Disabler\\']\"\\n54,Ranged,56,2,Clinkz,npc_dota_hero_clinkz,agi,\"[\\'Carry\\', \\'Escape\\', \\'Pusher\\']\"\\n55,Melee,57,2,Omniknight,npc_dota_hero_omniknight,str,\"[\\'Support\\', \\'Durable\\', \\'Nuker\\']\"\\n56,Ranged,58,4,Enchantress,npc_dota_hero_enchantress,int,\"[\\'Support\\', \\'Jungler\\', \\'Pusher\\', \\'Durable\\', \\'Disabler\\']\"\\n57,Ranged,59,2,Huskar,npc_dota_hero_huskar,str,\"[\\'Carry\\', \\'Durable\\', \\'Initiator\\']\"\\n58,Melee,60,2,Night Stalker,npc_dota_hero_night_stalker,str,\"[\\'Carry\\', \\'Initiator\\', \\'Durable\\', \\'Disabler\\', \\'Nuker\\']\"\\n59,Melee,61,8,Broodmother,npc_dota_hero_broodmother,agi,\"[\\'Carry\\', \\'Pusher\\', \\'Escape\\', \\'Nuker\\']\"\\n60,Melee,62,2,Bounty Hunter,npc_dota_hero_bounty_hunter,agi,\"[\\'Escape\\', \\'Nuker\\']\"\\n61,Ranged,63,4,Weaver,npc_dota_hero_weaver,agi,\"[\\'Carry\\', \\'Escape\\']\"\\n62,Ranged,64,2,Jakiro,npc_dota_hero_jakiro,int,\"[\\'Support\\', \\'Nuker\\', \\'Pusher\\', \\'Disabler\\']\"\\n63,Ranged,65,2,Batrider,npc_dota_hero_batrider,int,\"[\\'Initiator\\', \\'Jungler\\', \\'Disabler\\', \\'Escape\\']\"\\n64,Ranged,66,2,Chen,npc_dota_hero_chen,int,\"[\\'Support\\', \\'Jungler\\', \\'Pusher\\']\"\\n65,Melee,67,0,Spectre,npc_dota_hero_spectre,agi,\"[\\'Carry\\', \\'Durable\\', \\'Escape\\']\"\\n66,Ranged,68,2,Ancient Apparition,npc_dota_hero_ancient_apparition,int,\"[\\'Support\\', \\'Disabler\\', \\'Nuker\\']\"\\n67,Melee,69,2,Doom,npc_dota_hero_doom_bringer,str,\"[\\'Carry\\', \\'Disabler\\', \\'Initiator\\', \\'Durable\\', \\'Nuker\\']\"\\n68,Melee,70,2,Ursa,npc_dota_hero_ursa,agi,\"[\\'Carry\\', \\'Jungler\\', \\'Durable\\', \\'Disabler\\']\"\\n69,Melee,71,2,Spirit Breaker,npc_dota_hero_spirit_breaker,str,\"[\\'Carry\\', \\'Initiator\\', \\'Disabler\\', \\'Durable\\', \\'Escape\\']\"\\n70,Ranged,72,2,Gyrocopter,npc_dota_hero_gyrocopter,agi,\"[\\'Carry\\', \\'Nuker\\', \\'Disabler\\']\"\\n71,Melee,73,2,Alchemist,npc_dota_hero_alchemist,str,\"[\\'Carry\\', \\'Support\\', \\'Durable\\', \\'Disabler\\', \\'Initiator\\', \\'Nuker\\']\"\\n72,Ranged,74,2,Invoker,npc_dota_hero_invoker,int,\"[\\'Carry\\', \\'Nuker\\', \\'Disabler\\', \\'Escape\\', \\'Pusher\\']\"\\n73,Ranged,75,2,Silencer,npc_dota_hero_silencer,int,\"[\\'Carry\\', \\'Support\\', \\'Disabler\\', \\'Initiator\\', \\'Nuker\\']\"\\n74,Ranged,76,4,Outworld Devourer,npc_dota_hero_obsidian_destroyer,int,\"[\\'Carry\\', \\'Nuker\\', \\'Disabler\\']\"\\n75,Melee,77,2,Lycan,npc_dota_hero_lycan,str,\"[\\'Carry\\', \\'Pusher\\', \\'Jungler\\', \\'Durable\\', \\'Escape\\']\"\\n76,Melee,78,2,Brewmaster,npc_dota_hero_brewmaster,str,\"[\\'Carry\\', \\'Initiator\\', \\'Durable\\', \\'Disabler\\', \\'Nuker\\']\"\\n77,Ranged,79,2,Shadow Demon,npc_dota_hero_shadow_demon,int,\"[\\'Support\\', \\'Disabler\\', \\'Initiator\\', \\'Nuker\\']\"\\n78,Ranged,80,2,Lone Druid,npc_dota_hero_lone_druid,agi,\"[\\'Carry\\', \\'Pusher\\', \\'Jungler\\', \\'Durable\\']\"\\n79,Melee,81,2,Chaos Knight,npc_dota_hero_chaos_knight,str,\"[\\'Carry\\', \\'Disabler\\', \\'Durable\\', \\'Pusher\\', \\'Initiator\\']\"\\n80,Melee,82,2,Meepo,npc_dota_hero_meepo,agi,\"[\\'Carry\\', \\'Escape\\', \\'Nuker\\', \\'Disabler\\', \\'Initiator\\', \\'Pusher\\']\"\\n81,Melee,83,2,Treant Protector,npc_dota_hero_treant,str,\"[\\'Support\\', \\'Initiator\\', \\'Durable\\', \\'Disabler\\', \\'Escape\\']\"\\n82,Melee,84,2,Ogre Magi,npc_dota_hero_ogre_magi,int,\"[\\'Support\\', \\'Nuker\\', \\'Disabler\\', \\'Durable\\', \\'Initiator\\']\"\\n83,Melee,85,2,Undying,npc_dota_hero_undying,str,\"[\\'Support\\', \\'Durable\\', \\'Disabler\\', \\'Nuker\\']\"\\n84,Ranged,86,2,Rubick,npc_dota_hero_rubick,int,\"[\\'Support\\', \\'Disabler\\', \\'Nuker\\']\"\\n85,Ranged,87,2,Disruptor,npc_dota_hero_disruptor,int,\"[\\'Support\\', \\'Disabler\\', \\'Nuker\\', \\'Initiator\\']\"\\n86,Melee,88,6,Nyx Assassin,npc_dota_hero_nyx_assassin,agi,\"[\\'Disabler\\', \\'Nuker\\', \\'Initiator\\', \\'Escape\\']\"\\n87,Melee,89,0,Naga Siren,npc_dota_hero_naga_siren,agi,\"[\\'Carry\\', \\'Support\\', \\'Pusher\\', \\'Disabler\\', \\'Initiator\\', \\'Escape\\']\"\\n88,Ranged,90,2,Keeper of the Light,npc_dota_hero_keeper_of_the_light,int,\"[\\'Support\\', \\'Nuker\\', \\'Disabler\\', \\'Jungler\\']\"\\n89,Ranged,91,0,Io,npc_dota_hero_wisp,str,\"[\\'Support\\', \\'Escape\\', \\'Nuker\\']\"\\n90,Ranged,92,2,Visage,npc_dota_hero_visage,int,\"[\\'Support\\', \\'Nuker\\', \\'Durable\\', \\'Disabler\\', \\'Pusher\\']\"\\n91,Melee,93,2,Slark,npc_dota_hero_slark,agi,\"[\\'Carry\\', \\'Escape\\', \\'Disabler\\', \\'Nuker\\']\"\\n92,Ranged,94,0,Medusa,npc_dota_hero_medusa,agi,\"[\\'Carry\\', \\'Disabler\\', \\'Durable\\']\"\\n93,Ranged,95,2,Troll Warlord,npc_dota_hero_troll_warlord,agi,\"[\\'Carry\\', \\'Pusher\\', \\'Disabler\\', \\'Durable\\']\"\\n94,Melee,96,4,Centaur Warrunner,npc_dota_hero_centaur,str,\"[\\'Durable\\', \\'Initiator\\', \\'Disabler\\', \\'Nuker\\', \\'Escape\\']\"\\n95,Melee,97,4,Magnus,npc_dota_hero_magnataur,str,\"[\\'Initiator\\', \\'Disabler\\', \\'Nuker\\', \\'Escape\\']\"\\n96,Melee,98,2,Timbersaw,npc_dota_hero_shredder,str,\"[\\'Nuker\\', \\'Durable\\', \\'Escape\\']\"\\n97,Melee,99,2,Bristleback,npc_dota_hero_bristleback,str,\"[\\'Carry\\', \\'Durable\\', \\'Initiator\\', \\'Nuker\\']\"\\n98,Melee,100,2,Tusk,npc_dota_hero_tusk,str,\"[\\'Initiator\\', \\'Disabler\\', \\'Nuker\\']\"\\n99,Ranged,101,2,Skywrath Mage,npc_dota_hero_skywrath_mage,int,\"[\\'Support\\', \\'Nuker\\', \\'Disabler\\']\"\\n100,Melee,102,2,Abaddon,npc_dota_hero_abaddon,str,\"[\\'Support\\', \\'Carry\\', \\'Durable\\']\"\\n101,Melee,103,2,Elder Titan,npc_dota_hero_elder_titan,str,\"[\\'Initiator\\', \\'Disabler\\', \\'Nuker\\', \\'Durable\\']\"\\n102,Melee,104,2,Legion Commander,npc_dota_hero_legion_commander,str,\"[\\'Carry\\', \\'Disabler\\', \\'Initiator\\', \\'Durable\\', \\'Nuker\\']\"\\n103,Ranged,105,6,Techies,npc_dota_hero_techies,int,\"[\\'Nuker\\', \\'Disabler\\']\"\\n104,Melee,106,2,Ember Spirit,npc_dota_hero_ember_spirit,agi,\"[\\'Carry\\', \\'Escape\\', \\'Nuker\\', \\'Disabler\\', \\'Initiator\\']\"\\n105,Melee,107,2,Earth Spirit,npc_dota_hero_earth_spirit,str,\"[\\'Nuker\\', \\'Escape\\', \\'Disabler\\', \\'Initiator\\', \\'Durable\\']\"\\n106,Melee,108,2,Underlord,npc_dota_hero_abyssal_underlord,str,\"[\\'Support\\', \\'Nuker\\', \\'Disabler\\', \\'Durable\\', \\'Escape\\']\"\\n107,Melee,109,2,Terrorblade,npc_dota_hero_terrorblade,agi,\"[\\'Carry\\', \\'Pusher\\', \\'Nuker\\']\"\\n108,Ranged,110,2,Phoenix,npc_dota_hero_phoenix,str,\"[\\'Support\\', \\'Nuker\\', \\'Initiator\\', \\'Escape\\', \\'Disabler\\']\"\\n109,Ranged,111,2,Oracle,npc_dota_hero_oracle,int,\"[\\'Support\\', \\'Nuker\\', \\'Disabler\\', \\'Escape\\']\"\\n110,Ranged,112,2,Winter Wyvern,npc_dota_hero_winter_wyvern,int,\"[\\'Support\\', \\'Disabler\\', \\'Nuker\\']\"\\n111,Ranged,113,2,Arc Warden,npc_dota_hero_arc_warden,agi,\"[\\'Carry\\', \\'Escape\\', \\'Nuker\\']\"\\n112,Melee,114,2,Monkey King,npc_dota_hero_monkey_king,agi,\"[\\'Carry\\', \\'Escape\\', \\'Disabler\\', \\'Initiator\\']\"\\n113,Ranged,119,2,Dark Willow,npc_dota_hero_dark_willow,int,\"[\\'Support\\', \\'Nuker\\', \\'Disabler\\', \\'Escape\\']\"\\n114,Melee,120,2,Pangolier,npc_dota_hero_pangolier,agi,\"[\\'Carry\\', \\'Nuker\\', \\'Disabler\\', \\'Durable\\', \\'Escape\\', \\'Initiator\\']\"\\n115,Ranged,121,2,Grimstroke,npc_dota_hero_grimstroke,int,\"[\\'Support\\', \\'Nuker\\', \\'Disabler\\', \\'Escape\\']\"\\n116,Melee,129,2,Mars,npc_dota_hero_mars,str,\"[\\'Carry\\', \\'Initiator\\', \\'Disabler\\', \\'Durable\\']\"\\n'"
     },
     "execution_count": 2,
     "metadata": {},
     "output_type": "execute_result"
    }
   ],
   "source": [
    "with open(file=\"../data/dota_hero_stats.csv\") as f:\n",
    "        content = f.readlines()\n",
    "        str_content = ''.join(content)\n",
    "str_content"
   ],
   "metadata": {
    "collapsed": false,
    "ExecuteTime": {
     "end_time": "2024-01-19T15:07:57.808414600Z",
     "start_time": "2024-01-19T15:07:57.808080600Z"
    }
   },
   "id": "9d405a18fb438df8"
  },
  {
   "cell_type": "code",
   "execution_count": 3,
   "outputs": [
    {
     "data": {
      "text/plain": "[{'': '0',\n  'attack_type': 'Melee',\n  'id': '1',\n  'legs': '2',\n  'localized_name': 'Anti-Mage',\n  'name': 'npc_dota_hero_antimage',\n  'primary_attr': 'agi',\n  'roles': '\"[\\'Carry\\', \\'Escape\\', \\'Nuker\\']\"'},\n {'': '1',\n  'attack_type': 'Melee',\n  'id': '2',\n  'legs': '2',\n  'localized_name': 'Axe',\n  'name': 'npc_dota_hero_axe',\n  'primary_attr': 'str',\n  'roles': '\"[\\'Initiator\\', \\'Durable\\', \\'Disabler\\', \\'Jungler\\']\"'},\n {'': '2',\n  'attack_type': 'Ranged',\n  'id': '3',\n  'legs': '4',\n  'localized_name': 'Bane',\n  'name': 'npc_dota_hero_bane',\n  'primary_attr': 'int',\n  'roles': '\"[\\'Support\\', \\'Disabler\\', \\'Nuker\\', \\'Durable\\']\"'},\n {'': '3',\n  'attack_type': 'Melee',\n  'id': '4',\n  'legs': '2',\n  'localized_name': 'Bloodseeker',\n  'name': 'npc_dota_hero_bloodseeker',\n  'primary_attr': 'agi',\n  'roles': '\"[\\'Carry\\', \\'Disabler\\', \\'Jungler\\', \\'Nuker\\', \\'Initiator\\']\"'},\n {'': '4',\n  'attack_type': 'Ranged',\n  'id': '5',\n  'legs': '2',\n  'localized_name': 'Crystal Maiden',\n  'name': 'npc_dota_hero_crystal_maiden',\n  'primary_attr': 'int',\n  'roles': '\"[\\'Support\\', \\'Disabler\\', \\'Nuker\\', \\'Jungler\\']\"'}]"
     },
     "execution_count": 3,
     "metadata": {},
     "output_type": "execute_result"
    }
   ],
   "source": [
    "def parse_csv(content):\n",
    "    #  Осознанно не добавлял в код удаление символов перевода строки, а также не удалял первое значение с индексом\n",
    "        content_list = content.split('\\n')\n",
    "        cats = content_list[0].split(',')\n",
    "        return [dict(zip(cats, ((e.split(',')[:7])+[(','.join(e.split(',')[7:]))]))) for e in content_list[1:-1]]\n",
    "    \n",
    "stats_dict = parse_csv(str_content)\n",
    "stats_dict[:5]"
   ],
   "metadata": {
    "collapsed": false,
    "ExecuteTime": {
     "end_time": "2024-01-19T15:07:57.813611500Z",
     "start_time": "2024-01-19T15:07:57.808414600Z"
    }
   },
   "id": "bd45b3824e04d561"
  },
  {
   "cell_type": "code",
   "execution_count": 4,
   "outputs": [
    {
     "name": "stdout",
     "output_type": "stream",
     "text": [
      "8\n"
     ]
    }
   ],
   "source": [
    "print(max([e['legs'] for e in stats_dict]))"
   ],
   "metadata": {
    "collapsed": false,
    "ExecuteTime": {
     "end_time": "2024-01-19T15:07:57.824183700Z",
     "start_time": "2024-01-19T15:07:57.813611500Z"
    }
   },
   "id": "c2bb7212fdb73161"
  }
 ],
 "metadata": {
  "kernelspec": {
   "display_name": "Python 3",
   "language": "python",
   "name": "python3"
  },
  "language_info": {
   "codemirror_mode": {
    "name": "ipython",
    "version": 2
   },
   "file_extension": ".py",
   "mimetype": "text/x-python",
   "name": "python",
   "nbconvert_exporter": "python",
   "pygments_lexer": "ipython2",
   "version": "2.7.6"
  }
 },
 "nbformat": 4,
 "nbformat_minor": 5
}
