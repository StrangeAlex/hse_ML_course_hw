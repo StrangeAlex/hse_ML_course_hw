{
 "cells": [
  {
   "cell_type": "markdown",
   "source": [
    "### Easy"
   ],
   "metadata": {
    "collapsed": false
   },
   "id": "aaa9729c6c108637"
  },
  {
   "cell_type": "code",
   "execution_count": 1,
   "outputs": [
    {
     "data": {
      "text/plain": "{'mean': 4.75, 'median': 1.5, 'mode': 1}"
     },
     "execution_count": 1,
     "metadata": {},
     "output_type": "execute_result"
    }
   ],
   "source": [
    "def func(list):\n",
    "    \n",
    "    # Тут всё очев :)\n",
    "    mean = sum(list)/len(list)\n",
    "    \n",
    "    # Сортируем список смотрим на серединные индексы\n",
    "    sorted_list = sorted(list)\n",
    "    middle_index = len(list)//2\n",
    "    if len(list) % 2 != 0:\n",
    "        median = sorted_list[middle_index]\n",
    "    else:\n",
    "        median = (sorted_list[middle_index] + sorted_list[middle_index-1]) / 2\n",
    "    \n",
    "    # Сортируем список по количеству включений каждого элемента, после чего берем последний элемент\n",
    "    mode = sorted([(list.count(e), e) for e in set(list)])[-1][1]\n",
    "    \n",
    "    return {\"mean\": mean, \"median\": median, \"mode\": mode}\n",
    "\n",
    "func([1, 15, 2, 1])"
   ],
   "metadata": {
    "collapsed": false,
    "ExecuteTime": {
     "end_time": "2024-01-21T17:54:44.698296600Z",
     "start_time": "2024-01-21T17:54:44.692363Z"
    }
   },
   "id": "initial_id"
  },
  {
   "cell_type": "markdown",
   "source": [
    "### Medium"
   ],
   "metadata": {
    "collapsed": false
   },
   "id": "39570f9b3baa4f89"
  },
  {
   "cell_type": "code",
   "execution_count": 2,
   "outputs": [],
   "source": [
    "with open(file=\"../data/dota_hero_stats.csv\") as f:\n",
    "        content = f.readlines()\n",
    "        str_content = ''.join(content)"
   ],
   "metadata": {
    "collapsed": false,
    "ExecuteTime": {
     "end_time": "2024-01-21T17:54:44.698296600Z",
     "start_time": "2024-01-21T17:54:44.692363Z"
    }
   },
   "id": "9d405a18fb438df8"
  },
  {
   "cell_type": "code",
   "execution_count": 3,
   "outputs": [
    {
     "data": {
      "text/plain": "[{'': '0',\n  'attack_type': 'Melee',\n  'id': '1',\n  'legs': '2',\n  'localized_name': 'Anti-Mage',\n  'name': 'npc_dota_hero_antimage',\n  'primary_attr': 'agi',\n  'roles': '\"[\\'Carry\\', \\'Escape\\', \\'Nuker\\']\"'},\n {'': '1',\n  'attack_type': 'Melee',\n  'id': '2',\n  'legs': '2',\n  'localized_name': 'Axe',\n  'name': 'npc_dota_hero_axe',\n  'primary_attr': 'str',\n  'roles': '\"[\\'Initiator\\', \\'Durable\\', \\'Disabler\\', \\'Jungler\\']\"'}]"
     },
     "execution_count": 3,
     "metadata": {},
     "output_type": "execute_result"
    }
   ],
   "source": [
    "def parse_csv(content):\n",
    "    #  Осознанно не добавлял в код удаление символов перевода строки, а также не удалял первое значение с индексом\n",
    "        content_list = content.split('\\n')\n",
    "        cats = content_list[0].split(',')\n",
    "    #  Создаём словарь, разделяя значения в строке по запятой, причем в восьмом элементе запятые - часть данных, поэтому этот нюанс тоже учитываем, делая для него join\n",
    "        return [dict(zip(cats, ((e.split(',')[:7])+[(','.join(e.split(',')[7:]))]))) for e in content_list[1:-1]]\n",
    "    \n",
    "stats_dict = parse_csv(str_content)\n",
    "stats_dict[:2]"
   ],
   "metadata": {
    "collapsed": false,
    "ExecuteTime": {
     "end_time": "2024-01-21T17:54:44.707720900Z",
     "start_time": "2024-01-21T17:54:44.698296600Z"
    }
   },
   "id": "bd45b3824e04d561"
  },
  {
   "cell_type": "code",
   "execution_count": 4,
   "outputs": [
    {
     "name": "stdout",
     "output_type": "stream",
     "text": [
      "8\n"
     ]
    }
   ],
   "source": [
    "print(max([e['legs'] for e in stats_dict])) # Нашли максимальное количество ног у персонажа"
   ],
   "metadata": {
    "collapsed": false,
    "ExecuteTime": {
     "end_time": "2024-01-21T17:54:44.714515Z",
     "start_time": "2024-01-21T17:54:44.707720900Z"
    }
   },
   "id": "c2bb7212fdb73161"
  },
  {
   "cell_type": "code",
   "execution_count": 5,
   "outputs": [
    {
     "name": "stdout",
     "output_type": "stream",
     "text": [
      "Broodmother\n"
     ]
    }
   ],
   "source": [
    "# Вывели всех восьминогих персонажей\n",
    "for row in stats_dict:\n",
    "    if row['legs'] == '8':\n",
    "        print(row['localized_name'])"
   ],
   "metadata": {
    "collapsed": false,
    "ExecuteTime": {
     "end_time": "2024-01-21T17:54:44.723690400Z",
     "start_time": "2024-01-21T17:54:44.714515Z"
    }
   },
   "id": "6f3bb4cd31163408"
  }
 ],
 "metadata": {
  "kernelspec": {
   "display_name": "Python 3",
   "language": "python",
   "name": "python3"
  },
  "language_info": {
   "codemirror_mode": {
    "name": "ipython",
    "version": 2
   },
   "file_extension": ".py",
   "mimetype": "text/x-python",
   "name": "python",
   "nbconvert_exporter": "python",
   "pygments_lexer": "ipython2",
   "version": "2.7.6"
  }
 },
 "nbformat": 4,
 "nbformat_minor": 5
}
