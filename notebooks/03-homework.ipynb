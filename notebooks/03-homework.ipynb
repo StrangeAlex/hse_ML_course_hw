{
 "cells": [
  {
   "cell_type": "markdown",
   "source": [
    "# Домашнее задание\n",
    "\n",
    "Работаем с датасетом про дорожные знаки.\n",
    "\n",
    "https://www.kaggle.com/datasets/valentynsichkar/traffic-signs-preprocessed/data\n",
    "\n",
    "В первых двух задачах берем только файл train.pickle и можно подгрузить labels_names.csv\n",
    "\n",
    "Данные можно прочитать через `pd.read_pickle`\n",
    "\n",
    "## Easy\n",
    "\n",
    "Скачать датасет, обучить логистическую регрессию, измерить качество.\n",
    "\n",
    "Текстом кратко обосновать какую метрику выбираем и почему такую.\n",
    "\n",
    "Какой вид дорожных знаков модель путает чаще всего?\n",
    "\n",
    "## Medium\n",
    "\n",
    "Обучить и сравнить между собой:\n",
    "\n",
    "- логистическая регрессия\n",
    "- kNN\n",
    "- НБК\n",
    "- SVM (попробовать 3 разных ядра)\n",
    "\n",
    "Какая модель отработала лучше, а какая хуже всех?\n",
    "\n",
    "Проинтерпретируйте почему худшая модель именно эта.\n",
    "\n",
    "## Hard\n",
    "\n",
    "Вы - ML-инженер в команде беспилотных автомобилей! Ваша следующая цель - сделать алгоритм, который будет распознавать дорожные знаки. Другая команда уже позаботилась о подготовке данных - вам приходят обрезанные картинки 32х32. Но есть проблема - разметка стоит денег, у проекта есть бюджетные ограничения, но вам готовы выделить тот бюджет, который вы сможете обосновать.\n",
    "\n",
    "Определите сколько и каких семплов данных необходимо для того, чтобы обучить достаточно хороший алгоритм.\n",
    "\n",
    "**Подсказка:** При анализе изображений обычно делают специальную предобработку - картинки крутят-вертят, по-разному меняют цвета. Рядом с данными лежит питоновский скрипт, может быть он поможет уменьшить необходимое количество семплов?"
   ],
   "metadata": {
    "collapsed": false
   }
  },
  {
   "cell_type": "code",
   "execution_count": 1,
   "outputs": [
    {
     "name": "stderr",
     "output_type": "stream",
     "text": [
      "C:\\Users\\szabu\\AppData\\Local\\Temp\\ipykernel_9560\\1906245463.py:2: DeprecationWarning: \n",
      "Pyarrow will become a required dependency of pandas in the next major release of pandas (pandas 3.0),\n",
      "(to allow more performant data types, such as the Arrow string type, and better interoperability with other libraries)\n",
      "but was not found to be installed on your system.\n",
      "If this would cause problems for you,\n",
      "please provide us feedback at https://github.com/pandas-dev/pandas/issues/54466\n",
      "        \n",
      "  import pandas as pd\n"
     ]
    }
   ],
   "source": [
    "import numpy as np\n",
    "import pandas as pd\n",
    "import matplotlib.pyplot as plt\n",
    "from sklearn.linear_model import LogisticRegression\n",
    "from sklearn.svm import SVC\n",
    "from sklearn.neighbors import KNeighborsClassifier\n",
    "from sklearn.naive_bayes import GaussianNB\n",
    "from sklearn.metrics import accuracy_score, confusion_matrix, precision_score, recall_score, f1_score"
   ],
   "metadata": {
    "collapsed": false,
    "ExecuteTime": {
     "end_time": "2024-02-23T21:05:16.587383600Z",
     "start_time": "2024-02-23T21:05:15.682163400Z"
    }
   }
  },
  {
   "cell_type": "markdown",
   "source": [
    "# Easy"
   ],
   "metadata": {
    "collapsed": false
   }
  },
  {
   "cell_type": "code",
   "execution_count": 2,
   "outputs": [
    {
     "data": {
      "text/plain": "    0   1   2   3   4   5   6   7   8   9  ...  3063  3064  3065  3066  3067  \\\n0  28  25  24  27  24  23  27  24  22  27  ...    27    24    22    27    23   \n1  28  24  24  26  23  23  27  24  24  28  ...    27    23    22    27    24   \n2  29  25  25  29  26  26  30  27  27  30  ...    29    25    23    28    24   \n3  31  28  26  29  26  24  30  27  26  29  ...    28    23    22    27    23   \n4  33  27  25  31  25  24  32  26  25  31  ...    25    22    20    26    22   \n\n   3068  3069  3070  3071   y  \n0    21    26    22    20  41  \n1    23    29    26    25  41  \n2    22    30    26    24  41  \n3    22    27    23    21  41  \n4    19    27    22    19  41  \n\n[5 rows x 3073 columns]",
      "text/html": "<div>\n<style scoped>\n    .dataframe tbody tr th:only-of-type {\n        vertical-align: middle;\n    }\n\n    .dataframe tbody tr th {\n        vertical-align: top;\n    }\n\n    .dataframe thead th {\n        text-align: right;\n    }\n</style>\n<table border=\"1\" class=\"dataframe\">\n  <thead>\n    <tr style=\"text-align: right;\">\n      <th></th>\n      <th>0</th>\n      <th>1</th>\n      <th>2</th>\n      <th>3</th>\n      <th>4</th>\n      <th>5</th>\n      <th>6</th>\n      <th>7</th>\n      <th>8</th>\n      <th>9</th>\n      <th>...</th>\n      <th>3063</th>\n      <th>3064</th>\n      <th>3065</th>\n      <th>3066</th>\n      <th>3067</th>\n      <th>3068</th>\n      <th>3069</th>\n      <th>3070</th>\n      <th>3071</th>\n      <th>y</th>\n    </tr>\n  </thead>\n  <tbody>\n    <tr>\n      <th>0</th>\n      <td>28</td>\n      <td>25</td>\n      <td>24</td>\n      <td>27</td>\n      <td>24</td>\n      <td>23</td>\n      <td>27</td>\n      <td>24</td>\n      <td>22</td>\n      <td>27</td>\n      <td>...</td>\n      <td>27</td>\n      <td>24</td>\n      <td>22</td>\n      <td>27</td>\n      <td>23</td>\n      <td>21</td>\n      <td>26</td>\n      <td>22</td>\n      <td>20</td>\n      <td>41</td>\n    </tr>\n    <tr>\n      <th>1</th>\n      <td>28</td>\n      <td>24</td>\n      <td>24</td>\n      <td>26</td>\n      <td>23</td>\n      <td>23</td>\n      <td>27</td>\n      <td>24</td>\n      <td>24</td>\n      <td>28</td>\n      <td>...</td>\n      <td>27</td>\n      <td>23</td>\n      <td>22</td>\n      <td>27</td>\n      <td>24</td>\n      <td>23</td>\n      <td>29</td>\n      <td>26</td>\n      <td>25</td>\n      <td>41</td>\n    </tr>\n    <tr>\n      <th>2</th>\n      <td>29</td>\n      <td>25</td>\n      <td>25</td>\n      <td>29</td>\n      <td>26</td>\n      <td>26</td>\n      <td>30</td>\n      <td>27</td>\n      <td>27</td>\n      <td>30</td>\n      <td>...</td>\n      <td>29</td>\n      <td>25</td>\n      <td>23</td>\n      <td>28</td>\n      <td>24</td>\n      <td>22</td>\n      <td>30</td>\n      <td>26</td>\n      <td>24</td>\n      <td>41</td>\n    </tr>\n    <tr>\n      <th>3</th>\n      <td>31</td>\n      <td>28</td>\n      <td>26</td>\n      <td>29</td>\n      <td>26</td>\n      <td>24</td>\n      <td>30</td>\n      <td>27</td>\n      <td>26</td>\n      <td>29</td>\n      <td>...</td>\n      <td>28</td>\n      <td>23</td>\n      <td>22</td>\n      <td>27</td>\n      <td>23</td>\n      <td>22</td>\n      <td>27</td>\n      <td>23</td>\n      <td>21</td>\n      <td>41</td>\n    </tr>\n    <tr>\n      <th>4</th>\n      <td>33</td>\n      <td>27</td>\n      <td>25</td>\n      <td>31</td>\n      <td>25</td>\n      <td>24</td>\n      <td>32</td>\n      <td>26</td>\n      <td>25</td>\n      <td>31</td>\n      <td>...</td>\n      <td>25</td>\n      <td>22</td>\n      <td>20</td>\n      <td>26</td>\n      <td>22</td>\n      <td>19</td>\n      <td>27</td>\n      <td>22</td>\n      <td>19</td>\n      <td>41</td>\n    </tr>\n  </tbody>\n</table>\n<p>5 rows × 3073 columns</p>\n</div>"
     },
     "execution_count": 2,
     "metadata": {},
     "output_type": "execute_result"
    }
   ],
   "source": [
    "train_dict = pd.read_pickle(\"../data/train.pickle\")\n",
    "\n",
    "df_train = pd.DataFrame((train_dict['features']).reshape(train_dict['features'].shape[0], -1))\n",
    "\n",
    "df_train['y'] = train_dict['labels']\n",
    "\n",
    "df_train.head()"
   ],
   "metadata": {
    "collapsed": false,
    "ExecuteTime": {
     "end_time": "2024-02-23T21:05:16.660867900Z",
     "start_time": "2024-02-23T21:05:16.589383700Z"
    }
   }
  },
  {
   "cell_type": "code",
   "execution_count": 3,
   "outputs": [
    {
     "data": {
      "text/plain": "     0    1    2    3    4    5    6    7    8    9  ...  3063  3064  3065  \\\n0  116  139  174  116  137  171  118  138  172  117  ...   115   138   167   \n1   59   70   61   87   80   63   92   81   63   96  ...    62    59    62   \n2   52   40   38   51   39   37   50   38   37   50  ...    41    40    38   \n3  132  125   87  100   92   60   82   73   34   96  ...   235   239   196   \n4   37   34   30   42   38   32   46   40   36   44  ...    46    41    38   \n\n   3066  3067  3068  3069  3070  3071   y  \n0   117   138   167   114   140   170  16  \n1    73    67    70    75    70    70   1  \n2    44    43    43    47    46    44  38  \n3   255   251   217   255   240   180  33  \n4    48    43    40    49    45    42  11  \n\n[5 rows x 3073 columns]",
      "text/html": "<div>\n<style scoped>\n    .dataframe tbody tr th:only-of-type {\n        vertical-align: middle;\n    }\n\n    .dataframe tbody tr th {\n        vertical-align: top;\n    }\n\n    .dataframe thead th {\n        text-align: right;\n    }\n</style>\n<table border=\"1\" class=\"dataframe\">\n  <thead>\n    <tr style=\"text-align: right;\">\n      <th></th>\n      <th>0</th>\n      <th>1</th>\n      <th>2</th>\n      <th>3</th>\n      <th>4</th>\n      <th>5</th>\n      <th>6</th>\n      <th>7</th>\n      <th>8</th>\n      <th>9</th>\n      <th>...</th>\n      <th>3063</th>\n      <th>3064</th>\n      <th>3065</th>\n      <th>3066</th>\n      <th>3067</th>\n      <th>3068</th>\n      <th>3069</th>\n      <th>3070</th>\n      <th>3071</th>\n      <th>y</th>\n    </tr>\n  </thead>\n  <tbody>\n    <tr>\n      <th>0</th>\n      <td>116</td>\n      <td>139</td>\n      <td>174</td>\n      <td>116</td>\n      <td>137</td>\n      <td>171</td>\n      <td>118</td>\n      <td>138</td>\n      <td>172</td>\n      <td>117</td>\n      <td>...</td>\n      <td>115</td>\n      <td>138</td>\n      <td>167</td>\n      <td>117</td>\n      <td>138</td>\n      <td>167</td>\n      <td>114</td>\n      <td>140</td>\n      <td>170</td>\n      <td>16</td>\n    </tr>\n    <tr>\n      <th>1</th>\n      <td>59</td>\n      <td>70</td>\n      <td>61</td>\n      <td>87</td>\n      <td>80</td>\n      <td>63</td>\n      <td>92</td>\n      <td>81</td>\n      <td>63</td>\n      <td>96</td>\n      <td>...</td>\n      <td>62</td>\n      <td>59</td>\n      <td>62</td>\n      <td>73</td>\n      <td>67</td>\n      <td>70</td>\n      <td>75</td>\n      <td>70</td>\n      <td>70</td>\n      <td>1</td>\n    </tr>\n    <tr>\n      <th>2</th>\n      <td>52</td>\n      <td>40</td>\n      <td>38</td>\n      <td>51</td>\n      <td>39</td>\n      <td>37</td>\n      <td>50</td>\n      <td>38</td>\n      <td>37</td>\n      <td>50</td>\n      <td>...</td>\n      <td>41</td>\n      <td>40</td>\n      <td>38</td>\n      <td>44</td>\n      <td>43</td>\n      <td>43</td>\n      <td>47</td>\n      <td>46</td>\n      <td>44</td>\n      <td>38</td>\n    </tr>\n    <tr>\n      <th>3</th>\n      <td>132</td>\n      <td>125</td>\n      <td>87</td>\n      <td>100</td>\n      <td>92</td>\n      <td>60</td>\n      <td>82</td>\n      <td>73</td>\n      <td>34</td>\n      <td>96</td>\n      <td>...</td>\n      <td>235</td>\n      <td>239</td>\n      <td>196</td>\n      <td>255</td>\n      <td>251</td>\n      <td>217</td>\n      <td>255</td>\n      <td>240</td>\n      <td>180</td>\n      <td>33</td>\n    </tr>\n    <tr>\n      <th>4</th>\n      <td>37</td>\n      <td>34</td>\n      <td>30</td>\n      <td>42</td>\n      <td>38</td>\n      <td>32</td>\n      <td>46</td>\n      <td>40</td>\n      <td>36</td>\n      <td>44</td>\n      <td>...</td>\n      <td>46</td>\n      <td>41</td>\n      <td>38</td>\n      <td>48</td>\n      <td>43</td>\n      <td>40</td>\n      <td>49</td>\n      <td>45</td>\n      <td>42</td>\n      <td>11</td>\n    </tr>\n  </tbody>\n</table>\n<p>5 rows × 3073 columns</p>\n</div>"
     },
     "execution_count": 3,
     "metadata": {},
     "output_type": "execute_result"
    }
   ],
   "source": [
    "test_dict = pd.read_pickle(\"../data/test.pickle\")\n",
    "\n",
    "df_test = pd.DataFrame((test_dict['features']).reshape(test_dict['features'].shape[0], -1))\n",
    "\n",
    "df_test['y'] = test_dict['labels']\n",
    "\n",
    "df_test.head()"
   ],
   "metadata": {
    "collapsed": false,
    "ExecuteTime": {
     "end_time": "2024-02-23T21:05:16.683187500Z",
     "start_time": "2024-02-23T21:05:16.656867400Z"
    }
   }
  },
  {
   "cell_type": "code",
   "execution_count": 4,
   "outputs": [
    {
     "name": "stderr",
     "output_type": "stream",
     "text": [
      "C:\\Users\\szabu\\anaconda3\\envs\\classical-ml\\Lib\\site-packages\\sklearn\\linear_model\\_logistic.py:469: ConvergenceWarning: lbfgs failed to converge (status=1):\n",
      "STOP: TOTAL NO. of ITERATIONS REACHED LIMIT.\n",
      "\n",
      "Increase the number of iterations (max_iter) or scale the data as shown in:\n",
      "    https://scikit-learn.org/stable/modules/preprocessing.html\n",
      "Please also refer to the documentation for alternative solver options:\n",
      "    https://scikit-learn.org/stable/modules/linear_model.html#logistic-regression\n",
      "  n_iter_i = _check_optimize_result(\n"
     ]
    },
    {
     "data": {
      "text/plain": "LogisticRegression()",
      "text/html": "<style>#sk-container-id-1 {\n  /* Definition of color scheme common for light and dark mode */\n  --sklearn-color-text: black;\n  --sklearn-color-line: gray;\n  /* Definition of color scheme for unfitted estimators */\n  --sklearn-color-unfitted-level-0: #fff5e6;\n  --sklearn-color-unfitted-level-1: #f6e4d2;\n  --sklearn-color-unfitted-level-2: #ffe0b3;\n  --sklearn-color-unfitted-level-3: chocolate;\n  /* Definition of color scheme for fitted estimators */\n  --sklearn-color-fitted-level-0: #f0f8ff;\n  --sklearn-color-fitted-level-1: #d4ebff;\n  --sklearn-color-fitted-level-2: #b3dbfd;\n  --sklearn-color-fitted-level-3: cornflowerblue;\n\n  /* Specific color for light theme */\n  --sklearn-color-text-on-default-background: var(--sg-text-color, var(--theme-code-foreground, var(--jp-content-font-color1, black)));\n  --sklearn-color-background: var(--sg-background-color, var(--theme-background, var(--jp-layout-color0, white)));\n  --sklearn-color-border-box: var(--sg-text-color, var(--theme-code-foreground, var(--jp-content-font-color1, black)));\n  --sklearn-color-icon: #696969;\n\n  @media (prefers-color-scheme: dark) {\n    /* Redefinition of color scheme for dark theme */\n    --sklearn-color-text-on-default-background: var(--sg-text-color, var(--theme-code-foreground, var(--jp-content-font-color1, white)));\n    --sklearn-color-background: var(--sg-background-color, var(--theme-background, var(--jp-layout-color0, #111)));\n    --sklearn-color-border-box: var(--sg-text-color, var(--theme-code-foreground, var(--jp-content-font-color1, white)));\n    --sklearn-color-icon: #878787;\n  }\n}\n\n#sk-container-id-1 {\n  color: var(--sklearn-color-text);\n}\n\n#sk-container-id-1 pre {\n  padding: 0;\n}\n\n#sk-container-id-1 input.sk-hidden--visually {\n  border: 0;\n  clip: rect(1px 1px 1px 1px);\n  clip: rect(1px, 1px, 1px, 1px);\n  height: 1px;\n  margin: -1px;\n  overflow: hidden;\n  padding: 0;\n  position: absolute;\n  width: 1px;\n}\n\n#sk-container-id-1 div.sk-dashed-wrapped {\n  border: 1px dashed var(--sklearn-color-line);\n  margin: 0 0.4em 0.5em 0.4em;\n  box-sizing: border-box;\n  padding-bottom: 0.4em;\n  background-color: var(--sklearn-color-background);\n}\n\n#sk-container-id-1 div.sk-container {\n  /* jupyter's `normalize.less` sets `[hidden] { display: none; }`\n     but bootstrap.min.css set `[hidden] { display: none !important; }`\n     so we also need the `!important` here to be able to override the\n     default hidden behavior on the sphinx rendered scikit-learn.org.\n     See: https://github.com/scikit-learn/scikit-learn/issues/21755 */\n  display: inline-block !important;\n  position: relative;\n}\n\n#sk-container-id-1 div.sk-text-repr-fallback {\n  display: none;\n}\n\ndiv.sk-parallel-item,\ndiv.sk-serial,\ndiv.sk-item {\n  /* draw centered vertical line to link estimators */\n  background-image: linear-gradient(var(--sklearn-color-text-on-default-background), var(--sklearn-color-text-on-default-background));\n  background-size: 2px 100%;\n  background-repeat: no-repeat;\n  background-position: center center;\n}\n\n/* Parallel-specific style estimator block */\n\n#sk-container-id-1 div.sk-parallel-item::after {\n  content: \"\";\n  width: 100%;\n  border-bottom: 2px solid var(--sklearn-color-text-on-default-background);\n  flex-grow: 1;\n}\n\n#sk-container-id-1 div.sk-parallel {\n  display: flex;\n  align-items: stretch;\n  justify-content: center;\n  background-color: var(--sklearn-color-background);\n  position: relative;\n}\n\n#sk-container-id-1 div.sk-parallel-item {\n  display: flex;\n  flex-direction: column;\n}\n\n#sk-container-id-1 div.sk-parallel-item:first-child::after {\n  align-self: flex-end;\n  width: 50%;\n}\n\n#sk-container-id-1 div.sk-parallel-item:last-child::after {\n  align-self: flex-start;\n  width: 50%;\n}\n\n#sk-container-id-1 div.sk-parallel-item:only-child::after {\n  width: 0;\n}\n\n/* Serial-specific style estimator block */\n\n#sk-container-id-1 div.sk-serial {\n  display: flex;\n  flex-direction: column;\n  align-items: center;\n  background-color: var(--sklearn-color-background);\n  padding-right: 1em;\n  padding-left: 1em;\n}\n\n\n/* Toggleable style: style used for estimator/Pipeline/ColumnTransformer box that is\nclickable and can be expanded/collapsed.\n- Pipeline and ColumnTransformer use this feature and define the default style\n- Estimators will overwrite some part of the style using the `sk-estimator` class\n*/\n\n/* Pipeline and ColumnTransformer style (default) */\n\n#sk-container-id-1 div.sk-toggleable {\n  /* Default theme specific background. It is overwritten whether we have a\n  specific estimator or a Pipeline/ColumnTransformer */\n  background-color: var(--sklearn-color-background);\n}\n\n/* Toggleable label */\n#sk-container-id-1 label.sk-toggleable__label {\n  cursor: pointer;\n  display: block;\n  width: 100%;\n  margin-bottom: 0;\n  padding: 0.5em;\n  box-sizing: border-box;\n  text-align: center;\n}\n\n#sk-container-id-1 label.sk-toggleable__label-arrow:before {\n  /* Arrow on the left of the label */\n  content: \"▸\";\n  float: left;\n  margin-right: 0.25em;\n  color: var(--sklearn-color-icon);\n}\n\n#sk-container-id-1 label.sk-toggleable__label-arrow:hover:before {\n  color: var(--sklearn-color-text);\n}\n\n/* Toggleable content - dropdown */\n\n#sk-container-id-1 div.sk-toggleable__content {\n  max-height: 0;\n  max-width: 0;\n  overflow: hidden;\n  text-align: left;\n  /* unfitted */\n  background-color: var(--sklearn-color-unfitted-level-0);\n}\n\n#sk-container-id-1 div.sk-toggleable__content.fitted {\n  /* fitted */\n  background-color: var(--sklearn-color-fitted-level-0);\n}\n\n#sk-container-id-1 div.sk-toggleable__content pre {\n  margin: 0.2em;\n  border-radius: 0.25em;\n  color: var(--sklearn-color-text);\n  /* unfitted */\n  background-color: var(--sklearn-color-unfitted-level-0);\n}\n\n#sk-container-id-1 div.sk-toggleable__content.fitted pre {\n  /* unfitted */\n  background-color: var(--sklearn-color-fitted-level-0);\n}\n\n#sk-container-id-1 input.sk-toggleable__control:checked~div.sk-toggleable__content {\n  /* Expand drop-down */\n  max-height: 200px;\n  max-width: 100%;\n  overflow: auto;\n}\n\n#sk-container-id-1 input.sk-toggleable__control:checked~label.sk-toggleable__label-arrow:before {\n  content: \"▾\";\n}\n\n/* Pipeline/ColumnTransformer-specific style */\n\n#sk-container-id-1 div.sk-label input.sk-toggleable__control:checked~label.sk-toggleable__label {\n  color: var(--sklearn-color-text);\n  background-color: var(--sklearn-color-unfitted-level-2);\n}\n\n#sk-container-id-1 div.sk-label.fitted input.sk-toggleable__control:checked~label.sk-toggleable__label {\n  background-color: var(--sklearn-color-fitted-level-2);\n}\n\n/* Estimator-specific style */\n\n/* Colorize estimator box */\n#sk-container-id-1 div.sk-estimator input.sk-toggleable__control:checked~label.sk-toggleable__label {\n  /* unfitted */\n  background-color: var(--sklearn-color-unfitted-level-2);\n}\n\n#sk-container-id-1 div.sk-estimator.fitted input.sk-toggleable__control:checked~label.sk-toggleable__label {\n  /* fitted */\n  background-color: var(--sklearn-color-fitted-level-2);\n}\n\n#sk-container-id-1 div.sk-label label.sk-toggleable__label,\n#sk-container-id-1 div.sk-label label {\n  /* The background is the default theme color */\n  color: var(--sklearn-color-text-on-default-background);\n}\n\n/* On hover, darken the color of the background */\n#sk-container-id-1 div.sk-label:hover label.sk-toggleable__label {\n  color: var(--sklearn-color-text);\n  background-color: var(--sklearn-color-unfitted-level-2);\n}\n\n/* Label box, darken color on hover, fitted */\n#sk-container-id-1 div.sk-label.fitted:hover label.sk-toggleable__label.fitted {\n  color: var(--sklearn-color-text);\n  background-color: var(--sklearn-color-fitted-level-2);\n}\n\n/* Estimator label */\n\n#sk-container-id-1 div.sk-label label {\n  font-family: monospace;\n  font-weight: bold;\n  display: inline-block;\n  line-height: 1.2em;\n}\n\n#sk-container-id-1 div.sk-label-container {\n  text-align: center;\n}\n\n/* Estimator-specific */\n#sk-container-id-1 div.sk-estimator {\n  font-family: monospace;\n  border: 1px dotted var(--sklearn-color-border-box);\n  border-radius: 0.25em;\n  box-sizing: border-box;\n  margin-bottom: 0.5em;\n  /* unfitted */\n  background-color: var(--sklearn-color-unfitted-level-0);\n}\n\n#sk-container-id-1 div.sk-estimator.fitted {\n  /* fitted */\n  background-color: var(--sklearn-color-fitted-level-0);\n}\n\n/* on hover */\n#sk-container-id-1 div.sk-estimator:hover {\n  /* unfitted */\n  background-color: var(--sklearn-color-unfitted-level-2);\n}\n\n#sk-container-id-1 div.sk-estimator.fitted:hover {\n  /* fitted */\n  background-color: var(--sklearn-color-fitted-level-2);\n}\n\n/* Specification for estimator info (e.g. \"i\" and \"?\") */\n\n/* Common style for \"i\" and \"?\" */\n\n.sk-estimator-doc-link,\na:link.sk-estimator-doc-link,\na:visited.sk-estimator-doc-link {\n  float: right;\n  font-size: smaller;\n  line-height: 1em;\n  font-family: monospace;\n  background-color: var(--sklearn-color-background);\n  border-radius: 1em;\n  height: 1em;\n  width: 1em;\n  text-decoration: none !important;\n  margin-left: 1ex;\n  /* unfitted */\n  border: var(--sklearn-color-unfitted-level-1) 1pt solid;\n  color: var(--sklearn-color-unfitted-level-1);\n}\n\n.sk-estimator-doc-link.fitted,\na:link.sk-estimator-doc-link.fitted,\na:visited.sk-estimator-doc-link.fitted {\n  /* fitted */\n  border: var(--sklearn-color-fitted-level-1) 1pt solid;\n  color: var(--sklearn-color-fitted-level-1);\n}\n\n/* On hover */\ndiv.sk-estimator:hover .sk-estimator-doc-link:hover,\n.sk-estimator-doc-link:hover,\ndiv.sk-label-container:hover .sk-estimator-doc-link:hover,\n.sk-estimator-doc-link:hover {\n  /* unfitted */\n  background-color: var(--sklearn-color-unfitted-level-3);\n  color: var(--sklearn-color-background);\n  text-decoration: none;\n}\n\ndiv.sk-estimator.fitted:hover .sk-estimator-doc-link.fitted:hover,\n.sk-estimator-doc-link.fitted:hover,\ndiv.sk-label-container:hover .sk-estimator-doc-link.fitted:hover,\n.sk-estimator-doc-link.fitted:hover {\n  /* fitted */\n  background-color: var(--sklearn-color-fitted-level-3);\n  color: var(--sklearn-color-background);\n  text-decoration: none;\n}\n\n/* Span, style for the box shown on hovering the info icon */\n.sk-estimator-doc-link span {\n  display: none;\n  z-index: 9999;\n  position: relative;\n  font-weight: normal;\n  right: .2ex;\n  padding: .5ex;\n  margin: .5ex;\n  width: min-content;\n  min-width: 20ex;\n  max-width: 50ex;\n  color: var(--sklearn-color-text);\n  box-shadow: 2pt 2pt 4pt #999;\n  /* unfitted */\n  background: var(--sklearn-color-unfitted-level-0);\n  border: .5pt solid var(--sklearn-color-unfitted-level-3);\n}\n\n.sk-estimator-doc-link.fitted span {\n  /* fitted */\n  background: var(--sklearn-color-fitted-level-0);\n  border: var(--sklearn-color-fitted-level-3);\n}\n\n.sk-estimator-doc-link:hover span {\n  display: block;\n}\n\n/* \"?\"-specific style due to the `<a>` HTML tag */\n\n#sk-container-id-1 a.estimator_doc_link {\n  float: right;\n  font-size: 1rem;\n  line-height: 1em;\n  font-family: monospace;\n  background-color: var(--sklearn-color-background);\n  border-radius: 1rem;\n  height: 1rem;\n  width: 1rem;\n  text-decoration: none;\n  /* unfitted */\n  color: var(--sklearn-color-unfitted-level-1);\n  border: var(--sklearn-color-unfitted-level-1) 1pt solid;\n}\n\n#sk-container-id-1 a.estimator_doc_link.fitted {\n  /* fitted */\n  border: var(--sklearn-color-fitted-level-1) 1pt solid;\n  color: var(--sklearn-color-fitted-level-1);\n}\n\n/* On hover */\n#sk-container-id-1 a.estimator_doc_link:hover {\n  /* unfitted */\n  background-color: var(--sklearn-color-unfitted-level-3);\n  color: var(--sklearn-color-background);\n  text-decoration: none;\n}\n\n#sk-container-id-1 a.estimator_doc_link.fitted:hover {\n  /* fitted */\n  background-color: var(--sklearn-color-fitted-level-3);\n}\n</style><div id=\"sk-container-id-1\" class=\"sk-top-container\"><div class=\"sk-text-repr-fallback\"><pre>LogisticRegression()</pre><b>In a Jupyter environment, please rerun this cell to show the HTML representation or trust the notebook. <br />On GitHub, the HTML representation is unable to render, please try loading this page with nbviewer.org.</b></div><div class=\"sk-container\" hidden><div class=\"sk-item\"><div class=\"sk-estimator fitted sk-toggleable\"><input class=\"sk-toggleable__control sk-hidden--visually\" id=\"sk-estimator-id-1\" type=\"checkbox\" checked><label for=\"sk-estimator-id-1\" class=\"sk-toggleable__label fitted sk-toggleable__label-arrow fitted\">&nbsp;&nbsp;LogisticRegression<a class=\"sk-estimator-doc-link fitted\" rel=\"noreferrer\" target=\"_blank\" href=\"https://scikit-learn.org/1.4/modules/generated/sklearn.linear_model.LogisticRegression.html\">?<span>Documentation for LogisticRegression</span></a><span class=\"sk-estimator-doc-link fitted\">i<span>Fitted</span></span></label><div class=\"sk-toggleable__content fitted\"><pre>LogisticRegression()</pre></div> </div></div></div></div>"
     },
     "execution_count": 4,
     "metadata": {},
     "output_type": "execute_result"
    }
   ],
   "source": [
    "model = LogisticRegression(max_iter=100)\n",
    "model.fit(df_train.drop(columns=['y']), df_train['y'])"
   ],
   "metadata": {
    "collapsed": false,
    "ExecuteTime": {
     "end_time": "2024-02-23T21:05:30.157593900Z",
     "start_time": "2024-02-23T21:05:16.678187200Z"
    }
   }
  },
  {
   "cell_type": "code",
   "execution_count": 5,
   "outputs": [
    {
     "name": "stdout",
     "output_type": "stream",
     "text": [
      "Accuracy: 0.8169437846397466\n",
      "Recall: 0.7928267421239333\n",
      "Precision: 0.7399774952886683\n"
     ]
    }
   ],
   "source": [
    "preds = model.predict(df_test.drop(columns=['y']))\n",
    "\n",
    "# Хотим оценить, как в целом справляется модель, и посчитаем precision/recall на случай дизбаланса классов\n",
    "# (На следующей ячейке еще confusion matrix считается)\n",
    "print(f\"Accuracy: {accuracy_score(preds, df_test['y'])}\")\n",
    "print(f\"Recall: {recall_score(preds, df_test['y'], average='macro')}\")\n",
    "print(f\"Precision: {precision_score(preds, df_test['y'], average='macro')}\")"
   ],
   "metadata": {
    "collapsed": false,
    "ExecuteTime": {
     "end_time": "2024-02-23T21:05:30.332519400Z",
     "start_time": "2024-02-23T21:05:30.151623900Z"
    }
   }
  },
  {
   "cell_type": "code",
   "execution_count": 6,
   "outputs": [
    {
     "data": {
      "text/plain": "[(76, 1, 2),\n (70, 1, 4),\n (63, 5, 3),\n (56, 2, 1),\n (55, 8, 7),\n (52, 5, 7),\n (49, 2, 5),\n (38, 30, 23),\n (30, 12, 21),\n (29, 4, 17)]"
     },
     "execution_count": 6,
     "metadata": {},
     "output_type": "execute_result"
    }
   ],
   "source": [
    "conf_matrix = confusion_matrix(preds, df_test['y'])\n",
    "\n",
    "errors = []\n",
    "for i in range(43):\n",
    "    for j in range(43):\n",
    "        if i != j:\n",
    "            # Смотрим, что сколько раз модель запуталась, и что конкретно перепутала\n",
    "            errors.append((conf_matrix[i][j], i, j))\n",
    "        \n",
    "# Возьмем топ-10 результатов\n",
    "most_confusion = sorted(errors, reverse=True)[:10]\n",
    "most_confusion"
   ],
   "metadata": {
    "collapsed": false,
    "ExecuteTime": {
     "end_time": "2024-02-23T21:05:30.389307600Z",
     "start_time": "2024-02-23T21:05:30.326427Z"
    }
   }
  },
  {
   "cell_type": "code",
   "execution_count": 7,
   "outputs": [
    {
     "data": {
      "text/plain": "[('Speed limit (30km/h)', 'Speed limit (50km/h)'),\n ('Speed limit (30km/h)', 'Speed limit (70km/h)'),\n ('Speed limit (80km/h)', 'Speed limit (60km/h)'),\n ('Speed limit (50km/h)', 'Speed limit (30km/h)'),\n ('Speed limit (120km/h)', 'Speed limit (100km/h)'),\n ('Speed limit (80km/h)', 'Speed limit (100km/h)'),\n ('Speed limit (50km/h)', 'Speed limit (80km/h)'),\n ('Beware of ice/snow', 'Slippery road'),\n ('Priority road', 'Double curve'),\n ('Speed limit (70km/h)', 'No entry')]"
     },
     "execution_count": 7,
     "metadata": {},
     "output_type": "execute_result"
    }
   ],
   "source": [
    "label_names = pd.read_csv(\"../data/label_names.csv\")\n",
    "\n",
    "most_confusion_names = [(label_names['SignName'].iloc[e[1]], label_names['SignName'].iloc[e[2]]) for e in most_confusion]\n",
    "most_confusion_names  # У модели явно беды с распознаванием цифр на ограничительных знаках. :)"
   ],
   "metadata": {
    "collapsed": false,
    "ExecuteTime": {
     "end_time": "2024-02-23T21:05:30.389307600Z",
     "start_time": "2024-02-23T21:05:30.361712600Z"
    }
   }
  },
  {
   "cell_type": "markdown",
   "source": [
    "# Medium"
   ],
   "metadata": {
    "collapsed": false
   }
  },
  {
   "cell_type": "code",
   "execution_count": 8,
   "outputs": [],
   "source": [
    "X_train, y_train, X_test, y_test = df_train.drop(columns=['y']), df_train['y'], df_test.drop(columns=['y']), df_test['y']"
   ],
   "metadata": {
    "collapsed": false,
    "ExecuteTime": {
     "end_time": "2024-02-23T21:05:30.609098200Z",
     "start_time": "2024-02-23T21:05:30.368318200Z"
    }
   }
  },
  {
   "cell_type": "code",
   "execution_count": 9,
   "outputs": [],
   "source": [
    "models = {\n",
    "    'Logistic Regression': LogisticRegression(),\n",
    "    'kNN': KNeighborsClassifier(),\n",
    "    'Naive Bayes': GaussianNB(),\n",
    "    'SVM_linear': SVC(kernel='linear', max_iter=100),\n",
    "    'SVM_poly': SVC(kernel='poly', max_iter=100),\n",
    "    'SVM_rbf': SVC(kernel='rbf', max_iter=100)\n",
    "}"
   ],
   "metadata": {
    "collapsed": false,
    "ExecuteTime": {
     "end_time": "2024-02-23T21:05:30.617043300Z",
     "start_time": "2024-02-23T21:05:30.611326600Z"
    }
   }
  },
  {
   "cell_type": "code",
   "execution_count": 10,
   "outputs": [
    {
     "name": "stdout",
     "output_type": "stream",
     "text": [
      "Training Logistic Regression:\n"
     ]
    },
    {
     "name": "stderr",
     "output_type": "stream",
     "text": [
      "C:\\Users\\szabu\\anaconda3\\envs\\classical-ml\\Lib\\site-packages\\sklearn\\linear_model\\_logistic.py:469: ConvergenceWarning: lbfgs failed to converge (status=1):\n",
      "STOP: TOTAL NO. of ITERATIONS REACHED LIMIT.\n",
      "\n",
      "Increase the number of iterations (max_iter) or scale the data as shown in:\n",
      "    https://scikit-learn.org/stable/modules/preprocessing.html\n",
      "Please also refer to the documentation for alternative solver options:\n",
      "    https://scikit-learn.org/stable/modules/linear_model.html#logistic-regression\n",
      "  n_iter_i = _check_optimize_result(\n"
     ]
    },
    {
     "name": "stdout",
     "output_type": "stream",
     "text": [
      "Training finished!\n",
      "Training kNN:\n",
      "Training finished!\n",
      "Training Naive Bayes:\n",
      "Training finished!\n",
      "Training SVM_linear:\n"
     ]
    },
    {
     "name": "stderr",
     "output_type": "stream",
     "text": [
      "C:\\Users\\szabu\\anaconda3\\envs\\classical-ml\\Lib\\site-packages\\sklearn\\svm\\_base.py:297: ConvergenceWarning: Solver terminated early (max_iter=100).  Consider pre-processing your data with StandardScaler or MinMaxScaler.\n",
      "  warnings.warn(\n"
     ]
    },
    {
     "name": "stdout",
     "output_type": "stream",
     "text": [
      "Training finished!\n",
      "Training SVM_poly:\n"
     ]
    },
    {
     "name": "stderr",
     "output_type": "stream",
     "text": [
      "C:\\Users\\szabu\\anaconda3\\envs\\classical-ml\\Lib\\site-packages\\sklearn\\svm\\_base.py:297: ConvergenceWarning: Solver terminated early (max_iter=100).  Consider pre-processing your data with StandardScaler or MinMaxScaler.\n",
      "  warnings.warn(\n"
     ]
    },
    {
     "name": "stdout",
     "output_type": "stream",
     "text": [
      "Training finished!\n",
      "Training SVM_rbf:\n",
      "Training finished!\n"
     ]
    },
    {
     "name": "stderr",
     "output_type": "stream",
     "text": [
      "C:\\Users\\szabu\\anaconda3\\envs\\classical-ml\\Lib\\site-packages\\sklearn\\svm\\_base.py:297: ConvergenceWarning: Solver terminated early (max_iter=100).  Consider pre-processing your data with StandardScaler or MinMaxScaler.\n",
      "  warnings.warn(\n"
     ]
    }
   ],
   "source": [
    "for name, model in models.items():\n",
    "    print(f\"Training {name}:\")\n",
    "    model.fit(X_train, y_train)\n",
    "    print(\"Training finished!\")"
   ],
   "metadata": {
    "collapsed": false,
    "ExecuteTime": {
     "end_time": "2024-02-23T21:15:17.863559400Z",
     "start_time": "2024-02-23T21:05:30.614025700Z"
    }
   }
  },
  {
   "cell_type": "code",
   "execution_count": 11,
   "outputs": [
    {
     "name": "stderr",
     "output_type": "stream",
     "text": [
      "C:\\Users\\szabu\\anaconda3\\envs\\classical-ml\\Lib\\site-packages\\sklearn\\metrics\\_classification.py:1497: UndefinedMetricWarning: Precision is ill-defined and being set to 0.0 in labels with no predicted samples. Use `zero_division` parameter to control this behavior.\n",
      "  _warn_prf(average, modifier, f\"{metric.capitalize()} is\", len(result))\n"
     ]
    }
   ],
   "source": [
    "# Оценка производительности\n",
    "results = {}\n",
    "for name, model in models.items():\n",
    "    y_pred = model.predict(X_test)\n",
    "    accuracy = accuracy_score(y_test, y_pred)\n",
    "    precision = precision_score(y_test, y_pred, average='weighted')\n",
    "    recall = recall_score(y_test, y_pred, average='weighted')\n",
    "    f1 = f1_score(y_test, y_pred, average='weighted')\n",
    "    results[name] = {'Accuracy': accuracy, 'Precision': precision, 'Recall': recall, 'F1': f1}"
   ],
   "metadata": {
    "collapsed": false,
    "ExecuteTime": {
     "end_time": "2024-02-23T21:28:07.334579100Z",
     "start_time": "2024-02-23T21:15:17.856593400Z"
    }
   }
  },
  {
   "cell_type": "code",
   "execution_count": 12,
   "outputs": [
    {
     "name": "stdout",
     "output_type": "stream",
     "text": [
      "Logistic Regression: \n",
      "{'Accuracy': 0.8169437846397466, 'Precision': 0.820744687791157, 'Recall': 0.8169437846397466, 'F1': 0.8145731105636637}\n",
      "kNN: \n",
      "{'Accuracy': 0.3847189231987332, 'Precision': 0.423392251068593, 'Recall': 0.3847189231987332, 'F1': 0.39095958617170934}\n",
      "Naive Bayes: \n",
      "{'Accuracy': 0.11971496437054632, 'Precision': 0.3369179056192524, 'Recall': 0.11971496437054632, 'F1': 0.13146324342826704}\n",
      "SVM_linear: \n",
      "{'Accuracy': 0.6564528899445764, 'Precision': 0.6798514952516299, 'Recall': 0.6564528899445764, 'F1': 0.653418914847792}\n",
      "SVM_poly: \n",
      "{'Accuracy': 0.1564528899445764, 'Precision': 0.4127479846556274, 'Recall': 0.1564528899445764, 'F1': 0.16062015486350928}\n",
      "SVM_rbf: \n",
      "{'Accuracy': 0.35930324623911325, 'Precision': 0.5213108497778621, 'Recall': 0.35930324623911325, 'F1': 0.3626512419767831}\n"
     ]
    }
   ],
   "source": [
    "# Вывод результатов\n",
    "for name, metrics in results.items():\n",
    "    print(f'{name}: \\n{metrics}')"
   ],
   "metadata": {
    "collapsed": false,
    "ExecuteTime": {
     "end_time": "2024-02-23T21:28:07.341323300Z",
     "start_time": "2024-02-23T21:28:07.335579500Z"
    }
   }
  },
  {
   "cell_type": "markdown",
   "source": [
    "## Выводы после обучения\n",
    "Лучше всего показали себя логистическая регрессия и SVM с линейным ядром, что может означать наличие линейных зависимостей между пикселями и целевой переменной.\n",
    "\n",
    "Предположения, почему другие модели справились не так хорошо:\n",
    "\n",
    "**KNN**: kNN чувствителен к размерности данных, которая в нашем случае составляет 32 * 32 * 3, что немало. \n",
    "\n",
    "**NBC**: эта модель хорошо работает, если фичи независимы, что, вероятно, не так.\n",
    "\n",
    "**SVM (другие ядра)**: сложно сказать, но возможно, просто дефолтные параметры плохо справляются. Может, пытаться находить более сложные зависимости на этих данных -- плохая идея...\n",
    "\n",
    "P.S. При max_iter = -1 результаты для logreg и линейной SVM почти совпадают (метрики около 0.8), но при перезапуске ячеек я ограничил количество итераций до 100, чтобы не слишком долго ждать."
   ],
   "metadata": {
    "collapsed": false
   }
  }
 ],
 "metadata": {
  "interpreter": {
   "hash": "3c60d125f86ecb331b65a8423cf0cca4676faa8812a500d14a58b02fbd427a36"
  },
  "kernelspec": {
   "display_name": "Python 3 (ipykernel)",
   "language": "python",
   "name": "python3"
  },
  "language_info": {
   "codemirror_mode": {
    "name": "ipython",
    "version": 3
   },
   "file_extension": ".py",
   "mimetype": "text/x-python",
   "name": "python",
   "nbconvert_exporter": "python",
   "pygments_lexer": "ipython3",
   "version": "3.9.12"
  }
 },
 "nbformat": 4,
 "nbformat_minor": 4
}
